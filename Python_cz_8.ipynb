{
  "nbformat": 4,
  "nbformat_minor": 0,
  "metadata": {
    "kernelspec": {
      "display_name": "Python 3",
      "language": "python",
      "name": "python3"
    },
    "language_info": {
      "codemirror_mode": {
        "name": "ipython",
        "version": 3
      },
      "file_extension": ".py",
      "mimetype": "text/x-python",
      "name": "python",
      "nbconvert_exporter": "python",
      "pygments_lexer": "ipython3",
      "version": "3.8.2"
    },
    "colab": {
      "name": "Python cz. 8.ipynb",
      "provenance": [],
      "collapsed_sections": [],
      "include_colab_link": true
    }
  },
  "cells": [
    {
      "cell_type": "markdown",
      "metadata": {
        "id": "view-in-github",
        "colab_type": "text"
      },
      "source": [
        "<a href=\"https://colab.research.google.com/github/rroszczyk/Python/blob/master/Python_cz_8.ipynb\" target=\"_parent\"><img src=\"https://colab.research.google.com/assets/colab-badge.svg\" alt=\"Open In Colab\"/></a>"
      ]
    },
    {
      "cell_type": "markdown",
      "metadata": {
        "id": "WUPESCETzrBa"
      },
      "source": [
        "# Python (cz. 8) - praca z modułami\n",
        "\n",
        "Ostatnią składową naszego kursu jest omówienie sposobu zorganizowania kodu w danym języku. Mowa oczywiście o bibliotekach danego języka. \n",
        "\n",
        "Realizuje to jedno z marzeń programistów - by nie musieć tworzyć wiele razy tego samego kodu. Albo wyrażone w innych słowach _nie wynajdywać ponownie koła_. Programami Pythona można się dzielić, tak aby korzystali z tego inni. Chcąc udostępnić to co napisaliśmy \n",
        "\n",
        "* funkcje,\n",
        "* klasy,\n",
        "* wartości,\n",
        "* instrukcje,\n",
        "\n",
        "powinniśmy zamknąć je w moduły. Czym są moduły - można na nie patrzeć jak na zwykłe pliki i katalogi. Katalogi zawierające oczywiście skrypty Pythona. Zagadnienie to podzielimy na dwa tematy. Pierwszym (obowiązkowy) będzie dotyczył użycia różnych modułów. Oraz prezentujący użycie kilku udostępnionych nam do pracy pomocnych bibliotek.\n",
        "W drugiej (osobnej i dodatkowej częsci) pokażemy jak tworzyć takie moduły. Z przykładami jak takie moduły tworzyć w środowisku PyCharm.\n",
        "\n",
        "\n",
        "\n",
        "# Importowanie modułów\n",
        "\n",
        "Spora grupa modułów jest dostępnych od razu wraz z interpreterem. Jak np. znanym części z Państwa moduł `math` zawierający funkcje matematyczne. Dla innych konieczny będzie poprzedzenie importu - procesem instalacji - opisanym dalej. Podstawowa składnia importowania ma postać\n",
        "\n",
        "```python\n",
        "import nazwa_modulu\n",
        "```\n",
        "\n",
        "Taka forma importowania oznacza (z reguły) włączenie wszystkich składowych modułu do naszego przetwarzania. Można jednak przeprowadzić import bardziej szczegółowy z wykorzystaniem bardziej rozbudowanej składni\n",
        "\n",
        "```python\n",
        "from nazwa_modulu import skladowa\n",
        "```\n",
        "Składową w tej sytuacji może być zmienna, funkcja, dowolny element tej klasy. Ponadto, można po przecinku wymienić wiele składowych.\n",
        "\n",
        "\n",
        "W tej wersji odpowiednikiem całkowite importu jest zapisanie\n",
        "\n",
        "```python\n",
        "from nazwa_modulu import *\n",
        "```\n",
        "\n",
        "Na pewnym poziomie programowania może jednak dość do konfliktu kiedy dwa pakiety używają składowych o tej samej nazwie. Python dostarcza mechanizm zmiany nazwy składowej przy imporcie, albo wręcz całego modułu\n",
        "\n",
        "```python\n",
        "import nazwa_modulu as nowa_nazwa\n",
        "```\n",
        "\n",
        "Ponadto modułu (które można utożsamiać z katalogami) mogą być zagnieżdżone jedne w drugich. Stąd zasadne jest pisanie np.\n",
        "\n",
        "```python\n",
        "import modul.submodul\n",
        "```\n",
        "\n",
        "\n",
        "# Praca z popularnymi bibliotekami\n",
        "\n",
        "Wprowadźmy kilka naprawdę podstawowych pakietów Pythona do podstawowej pracy\n",
        "\n",
        "## Pakiet math\n",
        "Pakiet [math](https://docs.python.org/3/library/math.html)  dostarcza podstawowe matematyczne funkcje"
      ]
    },
    {
      "cell_type": "code",
      "metadata": {
        "colab": {
          "base_uri": "https://localhost:8080/"
        },
        "id": "dKJJelwqzrBd",
        "outputId": "0cc8c52a-879a-4858-abe9-d187a642ffc3"
      },
      "source": [
        "import math\n",
        "\n",
        "x = 3.1415\n",
        "print(math.ceil(x))\n",
        "print(math.floor(x))\n",
        "\n",
        "x = -3\n",
        "print(math.fabs(x))\n",
        "\n",
        "print(math.factorial(4))\n",
        "\n",
        "print(math.exp(1))\n",
        "\n",
        "print(math.log(2, 2))\n",
        "\n",
        "print(math.pow(7, 3))\n",
        "\n",
        "print(math.sin(math.pi))\n"
      ],
      "execution_count": 1,
      "outputs": [
        {
          "output_type": "stream",
          "name": "stdout",
          "text": [
            "4\n",
            "3\n",
            "3.0\n",
            "24\n",
            "2.718281828459045\n",
            "1.0\n",
            "343.0\n",
            "1.2246467991473532e-16\n"
          ]
        }
      ]
    },
    {
      "cell_type": "markdown",
      "metadata": {
        "id": "wDfn0XiyzrBf"
      },
      "source": [
        "## Pakiet Random\n",
        "\n",
        "Kolejnym pakietem jest pakiet [Random](https://docs.python.org/3/library/random.html) dostarczającym podstawowe sposoby na generowanie liczb losowych"
      ]
    },
    {
      "cell_type": "code",
      "metadata": {
        "colab": {
          "base_uri": "https://localhost:8080/"
        },
        "id": "onusxBYFzrBf",
        "outputId": "d3394297-a89c-4d1e-a6b4-527bfd2e595f"
      },
      "source": [
        "import random\n",
        "\n",
        "random.seed(100)\n",
        "sample = random.randint(1, 600)\n",
        "\n",
        "print('Losowy wynik to ', sample)\n",
        "\n",
        "random.seed(100)\n",
        "sample = random.randint(1, 600)\n",
        "\n",
        "print('Losowy wynik to ', sample)\n",
        "\n",
        "random.seed(100)\n",
        "sample = random.randint(1, 600)\n",
        "\n",
        "print('Losowy wynik to ', sample)"
      ],
      "execution_count": 22,
      "outputs": [
        {
          "output_type": "stream",
          "name": "stdout",
          "text": [
            "Losowy wynik to  150\n",
            "Losowy wynik to  150\n",
            "Losowy wynik to  150\n"
          ]
        }
      ]
    },
    {
      "cell_type": "markdown",
      "metadata": {
        "id": "H-5WZp4zzrBf"
      },
      "source": [
        "## Pakiet OS\n",
        "\n",
        "Dalej jest pakiet OS, który dostarcza Pythonowi narzędzia do pracy z systemem plikow uruchomionym wyżej, tj. plikami, katalogami"
      ]
    },
    {
      "cell_type": "code",
      "metadata": {
        "colab": {
          "base_uri": "https://localhost:8080/"
        },
        "id": "-mO_1YTVzrBf",
        "outputId": "76dce947-4396-4411-fd04-d2901320972b"
      },
      "source": [
        "from os import listdir\n",
        "#import os\n",
        "\n",
        "dirs = listdir()\n",
        "for dir in dirs:\n",
        "    print('Element ', dir)\n",
        "\n"
      ],
      "execution_count": 25,
      "outputs": [
        {
          "output_type": "stream",
          "name": "stdout",
          "text": [
            "Element  .config\n",
            "Element  sample_data\n"
          ]
        }
      ]
    },
    {
      "cell_type": "markdown",
      "metadata": {
        "id": "mS4DfIllzrBg"
      },
      "source": [
        "Pozwala sprawdzić czy dany plik istnieje"
      ]
    },
    {
      "cell_type": "code",
      "metadata": {
        "colab": {
          "base_uri": "https://localhost:8080/"
        },
        "id": "8S_hPsY1zrBg",
        "outputId": "faf9eccd-9b52-465c-b303-7f95926e7906"
      },
      "source": [
        "import os.path\n",
        "\n",
        "if os.path.exists('sample_data/README.md'):\n",
        "    print(('Plik istnieje'))\n",
        "else:\n",
        "    print('Plik nie istnieje')"
      ],
      "execution_count": 27,
      "outputs": [
        {
          "output_type": "stream",
          "name": "stdout",
          "text": [
            "Plik istnieje\n"
          ]
        }
      ]
    },
    {
      "cell_type": "markdown",
      "metadata": {
        "id": "X_HEYXXSzrBg"
      },
      "source": [
        "# Instalacja modułów\n",
        "\n",
        "Aby zainstalować wybrany moduł należy wywołać odpowiednie komendy - ale w systemie operacyjnym - działając nie w - ale na interpreterze. Są na to 3 sposoby. Wszystkie omawia film na nagraniu - udostępniony na platformie. Poniżej załaczamy dodatkową instrukcję wspierającą pierwszy z omawianych sposobów.\n",
        "\n",
        "Aby pobrać nowe pakiety z poziomu systemu operacyjnego wchodzimy do katalogu Scripts (lub bin) w VirtEnv, które założyliśmy. Powinniśmy być w stanie odszukać tam program python (lub python.exe). W tym katalogu uruchamiamy okno konsoli/terminal.\n",
        "\n",
        "Są dostępne dwa warianty\n",
        "\n",
        "* Jeśli dostępny jest tam obok program o nazwie pip stosujemy pierwszą formułę.\n",
        "* Jeśli nie jest ten program tam dostępny - nie poddajemy się i stosujemy drugą formułę.\n",
        "\n",
        "Pierwsza formuła dla linux\n",
        "\n",
        "```bash\n",
        "./pip install nazwa_modułu\n",
        "```\n",
        "\n",
        "Pierwsza formuła dla windows\n",
        "\n",
        "```bash\n",
        "pip.exe install nazwa_modułu\n",
        "```\n",
        "\n",
        "Druga formuła dla linux\n",
        "\n",
        "```bash\n",
        "./python -m pip install nazwa_modułu\n",
        "```\n",
        "\n",
        "Druga formuła dla windows\n",
        "\n",
        "```bash\n",
        "python.exe -m pip install nazwa_modułu\n",
        "```"
      ]
    },
    {
      "cell_type": "markdown",
      "metadata": {
        "id": "a74PM9-uVVV1"
      },
      "source": [
        "conda install nazwa_modułu"
      ]
    }
  ]
}