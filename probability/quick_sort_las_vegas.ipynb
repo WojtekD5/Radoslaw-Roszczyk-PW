{
  "nbformat": 4,
  "nbformat_minor": 0,
  "metadata": {
    "colab": {
      "name": "quick_sort_las_vegas.ipynb",
      "provenance": [],
      "authorship_tag": "ABX9TyMDpD+iMOy0v46L5Uk3HpWO",
      "include_colab_link": true
    },
    "kernelspec": {
      "name": "python3",
      "display_name": "Python 3"
    },
    "language_info": {
      "name": "python"
    }
  },
  "cells": [
    {
      "cell_type": "markdown",
      "metadata": {
        "id": "view-in-github",
        "colab_type": "text"
      },
      "source": [
        "<a href=\"https://colab.research.google.com/github/rroszczyk/Python/blob/master/probability/quick_sort_las_vegas.ipynb\" target=\"_parent\"><img src=\"https://colab.research.google.com/assets/colab-badge.svg\" alt=\"Open In Colab\"/></a>"
      ]
    },
    {
      "cell_type": "code",
      "source": [
        "import random"
      ],
      "metadata": {
        "id": "rwHKKp0L2cvf"
      },
      "execution_count": null,
      "outputs": []
    },
    {
      "cell_type": "code",
      "execution_count": 4,
      "metadata": {
        "id": "-zhEK1Hczz_o"
      },
      "outputs": [],
      "source": [
        "def quicksort(arr, start , stop):\n",
        "    if(start < stop):\n",
        "        pivotindex = partitionrand(arr, start, stop)\n",
        "         \n",
        "        quicksort(arr , start , pivotindex-1)\n",
        "        quicksort(arr, pivotindex + 1, stop)\n",
        " \n",
        "def partitionrand(arr , start, stop):\n",
        "    randpivot = random.randrange(start, stop)\n",
        " \n",
        "    arr[start], arr[randpivot] = \\\n",
        "        arr[randpivot], arr[start]\n",
        "    return partition(arr, start, stop)\n",
        " \n",
        "def partition(arr,start,stop):\n",
        "    pivot = start \n",
        "     \n",
        "    i = start + 1\n",
        "     \n",
        "    for j in range(start + 1, stop + 1):        \n",
        "        if arr[j] <= arr[pivot]:\n",
        "            arr[i] , arr[j] = arr[j] , arr[i]\n",
        "            i = i + 1\n",
        "    arr[pivot] , arr[i - 1] = arr[i - 1] , arr[pivot]\n",
        "    pivot = i - 1\n",
        "    return (pivot)"
      ]
    },
    {
      "cell_type": "code",
      "source": [
        "array = [10, 7, 8, 9, 1, 5]\n",
        "\n",
        "quicksort(array, 0, len(array) - 1)\n",
        "\n",
        "print(array)"
      ],
      "metadata": {
        "colab": {
          "base_uri": "https://localhost:8080/"
        },
        "id": "7Gk6vNhh2rhR",
        "outputId": "2f9a1255-f0ca-4668-b475-4d070d9e2fc9"
      },
      "execution_count": 5,
      "outputs": [
        {
          "output_type": "stream",
          "name": "stdout",
          "text": [
            "[1, 5, 7, 8, 9, 10]\n"
          ]
        }
      ]
    }
  ]
}