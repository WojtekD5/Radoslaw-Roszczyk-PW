{
  "nbformat": 4,
  "nbformat_minor": 0,
  "metadata": {
    "colab": {
      "name": "orzel_i_reszka.ipynb",
      "provenance": [],
      "collapsed_sections": [],
      "authorship_tag": "ABX9TyNZAddw0cBiRUC4qxWz+CW1",
      "include_colab_link": true
    },
    "kernelspec": {
      "name": "python3",
      "display_name": "Python 3"
    },
    "language_info": {
      "name": "python"
    }
  },
  "cells": [
    {
      "cell_type": "markdown",
      "metadata": {
        "id": "view-in-github",
        "colab_type": "text"
      },
      "source": [
        "<a href=\"https://colab.research.google.com/github/rroszczyk/Python/blob/master/probability/orzel_i_reszka.ipynb\" target=\"_parent\"><img src=\"https://colab.research.google.com/assets/colab-badge.svg\" alt=\"Open In Colab\"/></a>"
      ]
    },
    {
      "cell_type": "code",
      "execution_count": 1,
      "metadata": {
        "id": "E2b2g2rVX5z5"
      },
      "outputs": [],
      "source": [
        "import random\n",
        "import numpy as np\n",
        "import matplotlib.pyplot as plt"
      ]
    },
    {
      "cell_type": "code",
      "source": [
        "# funkcja rzucająca monetą\n",
        "# 0 - oznacza orła\n",
        "# 1 - oznacza reszkę\n",
        "def rzut_moneta():\n",
        "  return random.randint(0, 1)"
      ],
      "metadata": {
        "id": "pI6GoPwMYD_2"
      },
      "execution_count": 2,
      "outputs": []
    },
    {
      "cell_type": "code",
      "source": [
        "# symulacja Monte Carlo\n",
        "def symulacja(n):\n",
        "  wyniki = []\n",
        "  rezultat = 0\n",
        "\n",
        "  for i in range(n):\n",
        "    rzut = rzut_moneta()\n",
        "    rezultat = rezultat + rzut\n",
        "    \n",
        "    prawdopodobienstwo = rezultat / (i + 1)\n",
        "    wyniki.append(prawdopodobienstwo)\n",
        "\n",
        "  plt.axhline(y = 0.5, color = 'r', linestyle = '-')\n",
        "  plt.xlabel(\"Powtórzenia\")\n",
        "  plt.ylabel(\"Prawdopodobieństwo\")\n",
        "  plt.plot(wyniki)\n",
        "\n",
        "  return rezultat / n"
      ],
      "metadata": {
        "id": "9ctb1kiWYSYh"
      },
      "execution_count": 8,
      "outputs": []
    },
    {
      "cell_type": "code",
      "source": [
        "print(\"Wynik symulacji:\", symulacja(10000))"
      ],
      "metadata": {
        "colab": {
          "base_uri": "https://localhost:8080/",
          "height": 296
        },
        "id": "7P6GE9byZXiw",
        "outputId": "3955c1b7-73b8-4fbe-bd83-12f2c3c1ef90"
      },
      "execution_count": 11,
      "outputs": [
        {
          "output_type": "stream",
          "name": "stdout",
          "text": [
            "Wynik symulacji: 0.5016\n"
          ]
        },
        {
          "output_type": "display_data",
          "data": {
            "image/png": "[encoded data removed]",
            "text/plain": [
              "<Figure size 432x288 with 1 Axes>"
            ]
          },
          "metadata": {
            "needs_background": "light"
          }
        }
      ]
    }
  ]
}