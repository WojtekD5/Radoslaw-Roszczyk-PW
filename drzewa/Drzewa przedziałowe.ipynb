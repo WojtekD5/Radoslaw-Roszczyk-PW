{
 "cells": [
  {
   "cell_type": "markdown",
   "metadata": {},
   "source": [
    "# Drzewa przedziałowe\n",
    "\n",
    "Drzewa podziałowe są specjalnym rodzajem drzew które można wykorzystać do odszukiwania przecinających się przedziałów.\n",
    "\n",
    "Drzewem przedziałowym będziemy rozumieli drzewo w którym składowane są 3 elementy w typie danych. \n",
    "\n",
    "1. Dolna krawędź przedziału (low),\n",
    "1. Górna krawędź przedziału (high), oraz\n",
    "1. Maks czyli największa wartość w poddrzewie\n",
    "\n",
    "Drzewo jest drzewem posortowanym względem danych zapisywanych w polu low.\n",
    "\n",
    "Poniżej prezentowany jest przykładowa implementacja takiego drzewa. Implementacja ta jest jednak w pewien sposób niekompletna (o czym za chwilę)"
   ]
  },
  {
   "cell_type": "code",
   "execution_count": 1,
   "metadata": {},
   "outputs": [],
   "source": [
    "class ITree(object):\n",
    "    def __init__(self, low, high, left_child = None, right_child = None):\n",
    "        self.low = low\n",
    "        self.high = high\n",
    "        self.left_child = left_child\n",
    "        self.right_child = right_child\n",
    "        maxes = [high, None if left_child is None else left_child.max, None if right_child is None else right_child.max]\n",
    "        values = [i for i in maxes if i is not None]\n",
    "        self.max = max(values)\n",
    "      \n",
    "    def __str__(self):\n",
    "        if self.left_child is not None and self.right_child is not None:\n",
    "            return f' [{self.low};{self.high}] - max[{self.max}] \\nleft: {self.left_child} \\nright: {self.right_child}'\n",
    "        if self.left_child is not None :\n",
    "            return f' [{self.low};{self.high}] - max[{self.max}] \\nleft: {self.left_child} '\n",
    "        if self.right_child is not None:\n",
    "            return f' [{self.low};{self.high}] - max[{self.max}] \\nright: {self.right_child}'\n",
    "        else :\n",
    "            return f' [{self.low};{self.high}] - max[{self.max}]'\n",
    "        \n",
    "    def interval_search(self, low, high):\n",
    "        x = self\n",
    "        #print(f'Start {x}')\n",
    "        while x is not None and not (low < x.high and x.low < high ) :\n",
    "            if x.left_child is not None and x.left_child.max >= low:\n",
    "                x = x.left_child\n",
    "            else :\n",
    "                x = x.right_child\n",
    "        return x\n",
    "            \n",
    "            "
   ]
  },
  {
   "cell_type": "code",
   "execution_count": 2,
   "metadata": {},
   "outputs": [
    {
     "name": "stdout",
     "output_type": "stream",
     "text": [
      " [16;21] - max[30] \n",
      "left:  [8;9] - max[23] \n",
      "left:  [5;8] - max[10] \n",
      "left:  [0;3] - max[3] \n",
      "right:  [6;10] - max[10] \n",
      "right:  [15;23] - max[23] \n",
      "right:  [25;30] - max[30] \n",
      "left:  [17;19] - max[20] \n",
      "right:  [19;20] - max[20] \n",
      "right:  [26;26] - max[26]\n"
     ]
    }
   ],
   "source": [
    "ll = ITree(5,8, left_child = ITree(0,3), right_child = ITree(6,10))\n",
    "lr = ITree(15,23)\n",
    "rl = ITree(17,19, right_child = ITree(19,20))\n",
    "rr = ITree(26,26)\n",
    "l = ITree(8,9, left_child = ll, right_child = lr)\n",
    "r = ITree(25,30, left_child = rl, right_child = rr)\n",
    "tree = ITree(16,21, left_child = l, right_child = r)\n",
    "print(tree)"
   ]
  },
  {
   "cell_type": "code",
   "execution_count": 3,
   "metadata": {},
   "outputs": [
    {
     "name": "stdout",
     "output_type": "stream",
     "text": [
      "None\n"
     ]
    }
   ],
   "source": [
    "print(tree.interval_search(11,14))"
   ]
  },
  {
   "cell_type": "markdown",
   "metadata": {},
   "source": [
    "Czemu nie napisaliśmy pełnego algorytmu. Dlatego, że do implementacja tego rodzaju drzew z reguły stosuje się (nie omówiomych wcześniej) drzew czarno-czerwownych. Struktura ta to drzewo binarne samo balansujące - czyli takie które  ma rozmiar (wysokość) zbliżoną do $\\ln(n)$. Powyższa struktura zatem służy tylko do symulowania działania tego rodzaju drzew, nie dostarcza jednak technik ich budowania i balansowania.  "
   ]
  },
  {
   "cell_type": "code",
   "execution_count": null,
   "metadata": {},
   "outputs": [],
   "source": []
  }
 ],
 "metadata": {
  "kernelspec": {
   "display_name": "Python 3",
   "language": "python",
   "name": "python3"
  },
  "language_info": {
   "codemirror_mode": {
    "name": "ipython",
    "version": 3
   },
   "file_extension": ".py",
   "mimetype": "text/x-python",
   "name": "python",
   "nbconvert_exporter": "python",
   "pygments_lexer": "ipython3",
   "version": "3.8.5"
  }
 },
 "nbformat": 4,
 "nbformat_minor": 4
}
