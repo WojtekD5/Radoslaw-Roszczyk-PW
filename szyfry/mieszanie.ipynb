{
  "nbformat": 4,
  "nbformat_minor": 0,
  "metadata": {
    "colab": {
      "name": "mieszanie.ipynb",
      "provenance": [],
      "authorship_tag": "ABX9TyMU4DQhVPPVVpBTecxtpo+S",
      "include_colab_link": true
    },
    "kernelspec": {
      "name": "python3",
      "display_name": "Python 3"
    },
    "language_info": {
      "name": "python"
    }
  },
  "cells": [
    {
      "cell_type": "markdown",
      "metadata": {
        "id": "view-in-github",
        "colab_type": "text"
      },
      "source": [
        "<a href=\"https://colab.research.google.com/github/rroszczyk/Python/blob/master/szyfry/mieszanie.ipynb\" target=\"_parent\"><img src=\"https://colab.research.google.com/assets/colab-badge.svg\" alt=\"Open In Colab\"/></a>"
      ]
    },
    {
      "cell_type": "code",
      "execution_count": 1,
      "metadata": {
        "id": "XXOq37XVWFXk"
      },
      "outputs": [],
      "source": [
        "import hashlib"
      ]
    },
    {
      "cell_type": "code",
      "source": [
        "tekst = 'tekst do sprawdzania funkcji mieszających'\n",
        "\n",
        "\n",
        "sha1 = hashlib.sha1()\n",
        "sha1.update(bytes(tekst, 'utf-8'))\n",
        "print(f'SHA1: {sha1.hexdigest()}\\n')\n",
        "\n",
        "md5 = hashlib.md5()\n",
        "md5.update(bytes(tekst, 'utf-8'))\n",
        "print(f'MD5: {md5.hexdigest()}\\n')\n",
        "\n",
        "sha384 = hashlib.sha384()\n",
        "sha384.update(bytes(tekst, 'utf-8'))\n",
        "print(f'SHA384: {sha384.hexdigest()}\\n')\n",
        "\n",
        "#SHA1: e671092bbb2ead4026483f4b4495c5b16ceafbf5\n",
        "#SHA1: 198be6e8f1527390daee21345cb65fbfc45a8df5\n",
        "#MD5: 18c7a7022f4788785d9905edc20b47ac\n",
        "#MD5: 8190316dc728a4b21d840a4172cc59f9\n",
        "#SHA384: 401e78bee7d1e4de98e9c7c3a3cd95cc1d66c87c8b4c3baedf4cd9954fc7c9e2567cd4284859a900829bc8f6808cbe47\n",
        "#SHA384: ad5b89786459f5463a0fd2ce51e27b0acb2c6a19d8e568a5f7e2c8a4bfe9664f4f6946f5c5ac55ba5c99331df9442426"
      ],
      "metadata": {
        "colab": {
          "base_uri": "https://localhost:8080/"
        },
        "id": "o3GY-t6aWaXU",
        "outputId": "9012d90b-7b4d-4dea-b20f-84021b56ba94"
      },
      "execution_count": 7,
      "outputs": [
        {
          "output_type": "stream",
          "name": "stdout",
          "text": [
            "SHA1: 198be6e8f1527390daee21345cb65fbfc45a8df5\n",
            "\n",
            "MD5: 8190316dc728a4b21d840a4172cc59f9\n",
            "\n",
            "SHA384: ad5b89786459f5463a0fd2ce51e27b0acb2c6a19d8e568a5f7e2c8a4bfe9664f4f6946f5c5ac55ba5c99331df9442426\n",
            "\n"
          ]
        }
      ]
    }
  ]
}