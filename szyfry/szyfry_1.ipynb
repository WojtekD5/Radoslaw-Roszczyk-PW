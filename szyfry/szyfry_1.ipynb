{
  "nbformat": 4,
  "nbformat_minor": 0,
  "metadata": {
    "colab": {
      "name": "szyfry_1.ipynb",
      "provenance": [],
      "collapsed_sections": [],
      "authorship_tag": "ABX9TyNus8YHVideX5VYfPRXOgB6",
      "include_colab_link": true
    },
    "kernelspec": {
      "name": "python3",
      "display_name": "Python 3"
    },
    "language_info": {
      "name": "python"
    }
  },
  "cells": [
    {
      "cell_type": "markdown",
      "metadata": {
        "id": "view-in-github",
        "colab_type": "text"
      },
      "source": [
        "<a href=\"https://colab.research.google.com/github/rroszczyk/Python/blob/master/szyfry/szyfry_1.ipynb\" target=\"_parent\"><img src=\"https://colab.research.google.com/assets/colab-badge.svg\" alt=\"Open In Colab\"/></a>"
      ]
    },
    {
      "cell_type": "code",
      "execution_count": 1,
      "metadata": {
        "id": "fxMKkVKMJ63L"
      },
      "outputs": [],
      "source": [
        "import matplotlib.pyplot as plt\n",
        "import numpy as np"
      ]
    },
    {
      "cell_type": "code",
      "source": [
        "# przygotowanie katalogu roboczego do pracy :)\n",
        "import requests\n",
        "\n",
        "def pobierzPlik(url, nazwaPliku):\n",
        "    req = requests.get(url, stream=True)\n",
        "    with open(nazwaPliku, 'wb') as uchwytPliku:\n",
        "        for chunk in req.iter_content():\n",
        "            uchwytPliku.write(chunk)\n",
        "\n",
        "nazwyPlikow = ['alice.txt', 'pan_tadeusz.txt']\n",
        "for nazwa in nazwyPlikow:\n",
        "  pobierzPlik(\"https://github.com/rroszczyk/Python/raw/master/Pliki/\"+nazwa, nazwa)"
      ],
      "metadata": {
        "id": "g6Q-YaAeKG8C"
      },
      "execution_count": 2,
      "outputs": []
    },
    {
      "cell_type": "code",
      "source": [
        "def zlicz_litery(nazwa_pliku):\n",
        "  with open(nazwa_pliku) as plik:\n",
        "    tresc = plik.read()\n",
        "    tresc = tresc.upper()\n",
        "  print(len(tresc))\n",
        "\n",
        "  alfabet = [chr(ch) for ch in list(range(ord('A'), ord('Z') + 1))]\n",
        "  slownik = {x: 0 for x in alfabet}\n",
        "\n",
        "  cnt = 0\n",
        "  for ch in tresc:\n",
        "    if (ch in slownik):\n",
        "      slownik[ch] = slownik[ch] + 1\n",
        "      cnt = cnt + 1\n",
        "\n",
        "  for s in slownik:\n",
        "    slownik[s] = (slownik[s] / cnt) * 100\n",
        "  \n",
        "  print(slownik)\n",
        "  return slownik"
      ],
      "metadata": {
        "id": "DV5uuiAJNov_"
      },
      "execution_count": 12,
      "outputs": []
    },
    {
      "cell_type": "code",
      "source": [
        "slownik = zlicz_litery('alice.txt')\n",
        "print('Alicja w krainie czarów')\n",
        "plt.bar(list(slownik.keys()), slownik.values())\n",
        "plt.show()\n",
        "\n",
        "slownik = zlicz_litery('pan_tadeusz.txt')\n",
        "print('Pan Tadeusz')\n",
        "plt.bar(list(slownik.keys()), slownik.values())\n",
        "plt.show()"
      ],
      "metadata": {
        "colab": {
          "base_uri": "https://localhost:8080/",
          "height": 637
        },
        "id": "gV1gn2upPQaQ",
        "outputId": "939f69dd-5539-42ca-f6d0-a457d6a2f5a2"
      },
      "execution_count": 15,
      "outputs": [
        {
          "output_type": "stream",
          "name": "stdout",
          "text": [
            "163781\n",
            "{'A': 7.969818439047395, 'B': 1.419639154721154, 'C': 2.4392425338851442, 'D': 4.446739139272618, 'E': 12.517379603053932, 'F': 1.9367585719048046, 'G': 2.3928969257413266, 'H': 6.414394783273301, 'I': 7.019326931676817, 'J': 0.19107399848766962, 'K': 1.048874289570612, 'L': 4.236964281358495, 'M': 2.005870443698217, 'N': 6.546113880103098, 'O': 7.7055671645431705, 'P': 1.6001431022286547, 'Q': 0.1788777858182439, 'R': 5.374464382993601, 'S': 5.909471578759076, 'T': 9.919586304466254, 'U': 3.234435599931701, 'V': 0.7829968533771313, 'W': 2.400214653342982, 'X': 0.14310222865459513, 'Y': 2.1010009025197376, 'Z': 0.06504646757027052}\n",
            "Alicja w krainie czarów\n"
          ]
        },
        {
          "output_type": "display_data",
          "data": {
            "image/png": "[encoded data removed]",
            "text/plain": [
              "<Figure size 432x288 with 1 Axes>"
            ]
          },
          "metadata": {
            "needs_background": "light"
          }
        },
        {
          "output_type": "stream",
          "name": "stdout",
          "text": [
            "447032\n",
            "{'A': 9.82568682001093, 'B': 1.9617218937850862, 'C': 4.563689204630136, 'D': 3.728761985195489, 'E': 7.873900839584678, 'F': 0.1338243330518158, 'G': 1.5931616076307813, 'H': 1.3084355904416514, 'I': 9.35435193005117, 'J': 2.2712876943713054, 'K': 4.045779720800835, 'L': 2.165408117641214, 'M': 3.3723110934472653, 'N': 5.0545854240151025, 'O': 7.329288588603508, 'P': 2.883588355109543, 'Q': 0.0006209945849272194, 'R': 4.907409707387352, 'S': 5.0548959213075655, 'T': 3.6396492622584335, 'U': 2.446408167320781, 'V': 0.003104972924636097, 'W': 4.926350042227632, 'X': 0.0009314918773908292, 'Y': 4.258159868845944, 'Z': 7.296686372894828}\n",
            "Pan Tadeusz\n"
          ]
        },
        {
          "output_type": "display_data",
          "data": {
            "image/png": "[encoded data removed]",
            "text/plain": [
              "<Figure size 432x288 with 1 Axes>"
            ]
          },
          "metadata": {
            "needs_background": "light"
          }
        }
      ]
    },
    {
      "cell_type": "code",
      "source": [
        "def cezar(tekst, p):\n",
        "  wynik = ''\n",
        "  tekst = tekst.upper()\n",
        "\n",
        "  for i in range(len(tekst)):\n",
        "    ch = tekst[i]\n",
        "    wynik = wynik + chr((ord(ch) + p - 65) % 26 + 65)\n",
        "\n",
        "  return wynik\n"
      ],
      "metadata": {
        "id": "wCk4jNQeQdgj"
      },
      "execution_count": 18,
      "outputs": []
    },
    {
      "cell_type": "code",
      "source": [
        "print(cezar('tekst do sprawdzenia', 10))"
      ],
      "metadata": {
        "colab": {
          "base_uri": "https://localhost:8080/"
        },
        "id": "OdfueG5hR0sK",
        "outputId": "292baaad-14cf-4d39-e7a3-1e64c0c1e95e"
      },
      "execution_count": 19,
      "outputs": [
        {
          "output_type": "stream",
          "name": "stdout",
          "text": [
            "DOUCDDNYDCZBKGNJOXSK\n"
          ]
        }
      ]
    },
    {
      "cell_type": "code",
      "source": [
        "for i in range(26):\n",
        "  print(f\"{26-i}:{i} {cezar('DOUCDDNYDCZBKGNJOXSK', i)}\")"
      ],
      "metadata": {
        "colab": {
          "base_uri": "https://localhost:8080/"
        },
        "id": "YDBher_iSBVg",
        "outputId": "b2c6c012-c178-4ca2-9e7e-51de05bb3724"
      },
      "execution_count": 22,
      "outputs": [
        {
          "output_type": "stream",
          "name": "stdout",
          "text": [
            "26:0 DOUCDDNYDCZBKGNJOXSK\n",
            "25:1 EPVDEEOZEDACLHOKPYTL\n",
            "24:2 FQWEFFPAFEBDMIPLQZUM\n",
            "23:3 GRXFGGQBGFCENJQMRAVN\n",
            "22:4 HSYGHHRCHGDFOKRNSBWO\n",
            "21:5 ITZHIISDIHEGPLSOTCXP\n",
            "20:6 JUAIJJTEJIFHQMTPUDYQ\n",
            "19:7 KVBJKKUFKJGIRNUQVEZR\n",
            "18:8 LWCKLLVGLKHJSOVRWFAS\n",
            "17:9 MXDLMMWHMLIKTPWSXGBT\n",
            "16:10 NYEMNNXINMJLUQXTYHCU\n",
            "15:11 OZFNOOYJONKMVRYUZIDV\n",
            "14:12 PAGOPPZKPOLNWSZVAJEW\n",
            "13:13 QBHPQQALQPMOXTAWBKFX\n",
            "12:14 RCIQRRBMRQNPYUBXCLGY\n",
            "11:15 SDJRSSCNSROQZVCYDMHZ\n",
            "10:16 TEKSTTDOTSPRAWDZENIA\n",
            "9:17 UFLTUUEPUTQSBXEAFOJB\n",
            "8:18 VGMUVVFQVURTCYFBGPKC\n",
            "7:19 WHNVWWGRWVSUDZGCHQLD\n",
            "6:20 XIOWXXHSXWTVEAHDIRME\n",
            "5:21 YJPXYYITYXUWFBIEJSNF\n",
            "4:22 ZKQYZZJUZYVXGCJFKTOG\n",
            "3:23 ALRZAAKVAZWYHDKGLUPH\n",
            "2:24 BMSABBLWBAXZIELHMVQI\n",
            "1:25 CNTBCCMXCBYAJFMINWRJ\n"
          ]
        }
      ]
    },
    {
      "cell_type": "markdown",
      "source": [
        "TEKSTDOZAKODOWANIA -> TOOEZWKAASKNTOIDDA\n",
        "\n",
        "```\n",
        "TEKSTD\n",
        "OZAKOD\n",
        "OWANIA\n",
        "```"
      ],
      "metadata": {
        "id": "2Faxy23RTZiH"
      }
    },
    {
      "cell_type": "code",
      "source": [
        "def transpozycja(tekst, klucz):\n",
        "  wynik = ''\n",
        "  dlugosc = int(len(tekst) / klucz)\n",
        "  for i in range(klucz):\n",
        "    for j in range(dlugosc):\n",
        "      idx = (j * klucz + (i + 1)) - 1\n",
        "      wynik = wynik + tekst[idx]\n",
        "  return (wynik, dlugosc)"
      ],
      "metadata": {
        "id": "XSr87BIFT9Om"
      },
      "execution_count": 28,
      "outputs": []
    },
    {
      "cell_type": "code",
      "source": [
        "print(transpozycja('TEKSTDOZAKODOWANIA', 6))\n",
        "\n",
        "print(transpozycja('TOOEZWKAASKNTOIDDA', 3))"
      ],
      "metadata": {
        "colab": {
          "base_uri": "https://localhost:8080/"
        },
        "id": "RQH8pm_0VPUg",
        "outputId": "f76c1c78-01ab-4b9b-f940-eeca141acf71"
      },
      "execution_count": 30,
      "outputs": [
        {
          "output_type": "stream",
          "name": "stdout",
          "text": [
            "('TOOEZWKAASKNTOIDDA', 3)\n",
            "('TEKSTDOZAKODOWANIA', 6)\n"
          ]
        }
      ]
    }
  ]
}