{
  "nbformat": 4,
  "nbformat_minor": 0,
  "metadata": {
    "colab": {
      "name": "operacje_na_plikach.ipynb",
      "provenance": [],
      "include_colab_link": true
    },
    "kernelspec": {
      "name": "python3",
      "display_name": "Python 3"
    }
  },
  "cells": [
    {
      "cell_type": "markdown",
      "metadata": {
        "id": "view-in-github",
        "colab_type": "text"
      },
      "source": [
        "<a href=\"https://colab.research.google.com/github/rroszczyk/Python/blob/master/operacje_na_plikach.ipynb\" target=\"_parent\"><img src=\"https://colab.research.google.com/assets/colab-badge.svg\" alt=\"Open In Colab\"/></a>"
      ]
    },
    {
      "cell_type": "code",
      "metadata": {
        "id": "AwjWpsgOLTrt",
        "colab_type": "code",
        "colab": {
          "base_uri": "https://localhost:8080/",
          "height": 34
        },
        "outputId": "1c582461-0a78-444e-e54a-6279a971244b"
      },
      "source": [
        "filename = 'alice.txt'\n",
        "\n",
        "try:\n",
        "    with open(filename) as f_obj:\n",
        "        contents = f_obj.read()\n",
        "except FileNotFoundError as e:\n",
        "    msg = \"Przepraszamy, ale plik \" + filename + \" nie istnieje.\"\n",
        "    print(msg)\n",
        "else:\n",
        "    # Obliczenie przybliżonej liczby słów w pliku.\n",
        "    words = contents.split()\n",
        "    num_words = len(words)\n",
        "    print(\"Plik \" + filename + \" zawiera \" + str(num_words) + \" słów.\")\n"
      ],
      "execution_count": 1,
      "outputs": [
        {
          "output_type": "stream",
          "text": [
            "Plik alice.txt zawiera 29461 słów.\n"
          ],
          "name": "stdout"
        }
      ]
    }
  ]
}