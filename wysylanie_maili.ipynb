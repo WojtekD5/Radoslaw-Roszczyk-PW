{
  "nbformat": 4,
  "nbformat_minor": 0,
  "metadata": {
    "colab": {
      "name": "wysylanie_maili.ipynb",
      "provenance": [],
      "collapsed_sections": [],
      "authorship_tag": "ABX9TyMEQMbjKRFtEKfaH+Z6sGNG",
      "include_colab_link": true
    },
    "kernelspec": {
      "name": "python3",
      "display_name": "Python 3"
    },
    "language_info": {
      "name": "python"
    }
  },
  "cells": [
    {
      "cell_type": "markdown",
      "metadata": {
        "id": "view-in-github",
        "colab_type": "text"
      },
      "source": [
        "<a href=\"https://colab.research.google.com/github/rroszczyk/Python/blob/master/wysylanie_maili.ipynb\" target=\"_parent\"><img src=\"https://colab.research.google.com/assets/colab-badge.svg\" alt=\"Open In Colab\"/></a>"
      ]
    },
    {
      "cell_type": "code",
      "metadata": {
        "id": "tHXO9CjA_bcb"
      },
      "source": [
        "from __future__ import unicode_literals\n",
        "from email.mime.text import MIMEText\n",
        "from email.mime.multipart import MIMEMultipart\n",
        "import smtplib\n",
        "\n",
        "user = \"tu należy wpisać nazwę użytkownika\"\n",
        "password = \"tu należy wpisać hasło\"\n",
        "server = \"smtp.mailtrap.io\""
      ],
      "execution_count": null,
      "outputs": []
    },
    {
      "cell_type": "code",
      "metadata": {
        "id": "cJ1pEiPE_99q"
      },
      "source": [
        "mailFrom = \"Radoslaw Roszczyk\"\n",
        "mailTo = [\"python@roszczyk.net\", \"python@roszczyk.net\"]\n",
        "mailSubject = \"Testowa wiadomosc wyslana z Pythona\"\n",
        "messageBody = \"\"\"\n",
        "Czesc,\n",
        "\n",
        "To jest najprostrza wiadomosc testowa wyslana z poziomu Python'a.\n",
        "\n",
        "Pozdrawiam,\n",
        "Radek\n",
        "\"\"\"\n",
        "\n",
        "message = \"\"\"From: {}\n",
        "Subject: {}\n",
        "\n",
        "{}\n",
        "\"\"\".format(mailFrom, mailSubject, messageBody)"
      ],
      "execution_count": null,
      "outputs": []
    },
    {
      "cell_type": "code",
      "metadata": {
        "id": "MHlyV7MzAP2x",
        "colab": {
          "base_uri": "https://localhost:8080/"
        },
        "outputId": "eed0dbff-ebf4-4f2d-d6d6-46ff527e7248"
      },
      "source": [
        "try:\n",
        "    srv = smtplib.SMTP(server, 2525)\n",
        "    srv.ehlo()  \n",
        "    srv.login(user, password)\n",
        "    srv.sendmail(user, mailTo, message)\n",
        "    srv.close()\n",
        "    print(\"Mail sent.\")\n",
        "except ConnectionRefusedError:\n",
        "    print('Failed to connect to the server. Bad connection settings?')\n",
        "except smtplib.SMTPServerDisconnected:\n",
        "    print('Failed to connect to the server. Wrong user/password?')\n",
        "except smtplib.SMTPException as e:\n",
        "    print('SMTP error occurred: ' + str(e))"
      ],
      "execution_count": null,
      "outputs": [
        {
          "output_type": "stream",
          "name": "stdout",
          "text": [
            "Mail sent.\n"
          ]
        }
      ]
    },
    {
      "cell_type": "code",
      "metadata": {
        "id": "Ka3F_TYFHIDn"
      },
      "source": [
        "message = MIMEMultipart(\"alternative\")\n",
        "message[\"Subject\"] = \"Testowa wiadomość wyłana z Pythona\"\n",
        "message[\"From\"] = \"python@roszczyk.net\"\n",
        "message[\"To\"] = \"python@roszczyk.net\"\n",
        "message.set_charset(\"utf-8\")\n",
        "\n",
        "text = \"\"\"\n",
        "Czesc,\n",
        "\n",
        "To jest najprostrza wiadomosc testowa wyslana z poziomu Python'a.\n",
        "\n",
        "Pozdrawiam,\n",
        "Radek\n",
        "\"\"\"\n",
        "\n",
        "html = \"\"\"\n",
        "<html>\n",
        "  <body>\n",
        "    <h1>Cześć,</h1>\n",
        "    <p>To jest wiadomość która może zawierać już dowolne treści</p>\n",
        "    <p><a href=\"https://blog.roszczyk.net\">Zajrzyj na mojego bloga.</a></p>\n",
        "    <p>Cześć,<br>\n",
        "       Radosław Roszczyk</p>\n",
        "  </body>\n",
        "</html>\n",
        "\"\"\"\n"
      ],
      "execution_count": null,
      "outputs": []
    },
    {
      "cell_type": "code",
      "metadata": {
        "id": "NfhoC7ljIKzD",
        "colab": {
          "base_uri": "https://localhost:8080/"
        },
        "outputId": "c206cf7f-abaa-4c9e-d79c-033c3d160af7"
      },
      "source": [
        "part1 = MIMEText(text, \"plain\")\n",
        "part2 = MIMEText(html, \"html\")\n",
        "message.attach(part1)\n",
        "message.attach(part2)\n",
        "\n",
        "try:\n",
        "    srv = smtplib.SMTP(server, 2525)\n",
        "    srv.ehlo()  \n",
        "    srv.login(user, password)\n",
        "    srv.sendmail(message[\"From\"], message[\"To\"], message.as_string())\n",
        "    srv.close()\n",
        "    print(\"Mail sent.\")\n",
        "except ConnectionRefusedError:\n",
        "    print('Failed to connect to the server. Bad connection settings?')\n",
        "except smtplib.SMTPServerDisconnected:\n",
        "    print('Failed to connect to the server. Wrong user/password?')\n",
        "except smtplib.SMTPException as e:\n",
        "    print('SMTP error occurred: ' + str(e))"
      ],
      "execution_count": null,
      "outputs": [
        {
          "output_type": "stream",
          "name": "stdout",
          "text": [
            "Mail sent.\n"
          ]
        }
      ]
    }
  ]
}