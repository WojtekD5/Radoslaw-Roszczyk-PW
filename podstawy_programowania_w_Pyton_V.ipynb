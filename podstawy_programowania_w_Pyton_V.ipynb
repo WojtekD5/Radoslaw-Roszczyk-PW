{
  "nbformat": 4,
  "nbformat_minor": 0,
  "metadata": {
    "kernelspec": {
      "display_name": "Python 3",
      "language": "python",
      "name": "python3"
    },
    "language_info": {
      "codemirror_mode": {
        "name": "ipython",
        "version": 3
      },
      "file_extension": ".py",
      "mimetype": "text/x-python",
      "name": "python",
      "nbconvert_exporter": "python",
      "pygments_lexer": "ipython3",
      "version": "3.8.5"
    },
    "colab": {
      "name": "Python cz. 5.ipynb",
      "provenance": [],
      "collapsed_sections": []
    }
  },
  "cells": [
    {
      "cell_type": "markdown",
      "metadata": {
        "id": "6IdJ9cAZNb1G"
      },
      "source": [
        "# Tryb awaryjny w Python - poznajemy obsługę wyjatków\n",
        "\n",
        "W programowaniu (w tym w Pythonie) poznaliśmy już najważniejsze z jego składowych instrukcji. Obserwujemy, jak pisane przez nas skrypty są w sposób uporządkowany wykonywane - linijka po linijce, funkcja po funkcji. Wszystko jest uporządkowane, jak jak np. ruch na drodze. Na każdym skrzyżowaniu dokładnie wiadomo, kto i w jakiej kolejności będzie je pokonywał. Jednak nie zawsze ten porządek jest zachowany. Czasem trafiają się sytuacje wyjątkowe, kiedy trzeba odłożyć wykonywanie poszczególnych instrukcji na bok i skupić się na ratowaniu całej sytuacji.\n",
        "\n",
        "Okazuje się, że większość współczesnych języków programowania - a zatem i Python - posiada wbudowane mechanizmy z odmiennym - ratunkowym trybem pracy. Swoistym pasem dla karetek pogotowia. W tej lekcji opowiemy Państwu o mechanizmie obsługi sytuacji wyjątkowych w Python.\n",
        "\n",
        "# Błąd a wyjątek\n",
        "\n",
        "Bardzo często w początkowym etapie nauki programowania mylone są dwa pojęcia - błędu i wyjątku. Stąd też pojawia się czasami sformułowanie \"obsługa błędów\". W informatyce posługujemy się następującym rozróżnieniem:\n",
        "\n",
        "* *błędem* (Error) nazywać będziemy sytuację, w której doszło do nieprawidłowego działania programu i w efekcie nie da się kontynuować jego pracy;\n",
        "* *wyjątkiem* (Exception) nazywać będziemy sytuację, w której doszło do nieprawidłowego działania programu, ale możliwe jest kontynuowanie jego działania po dokonaniu naprawy;\n",
        "\n",
        "Przykładem błędu sytuacja, gdy na skutek awarii sprzętu część danych z działania programu została utracona. Przykładem wyjątku natomiast, gdy na skutek błędu wprowadzania z klawiatury użytkownik polecił pracować z nieistniejącym (lub nie pasującym do wzorca) plikiem. Drugą z sytuacji można by naprawić prosząc go ponowne podanie ścieżki pliku.\n",
        "\n",
        "\n",
        "# Składnia obsługi wyjątków w Python\n",
        "\n",
        "Składnia dotycząca obsługi wyjątku jest bardzo podobna do tej dostępnej w C++, Javie oraz innych współczesnych języków. Składa się z reguły z dwóch bloków kodu\n",
        "\n",
        "* blok przechwytywania - blok instrukcji które są zagrożone niepoprawnym wykonaniem, oraz\n",
        "* blok obsługi - blok instrukcji opisujących instrukcje mające na celu przeprowadzenie naprawy tej sytuacji.\n",
        "\n",
        "```python\n",
        "try:\n",
        "    blok przechwytywania\n",
        "except:\n",
        "    blok obsługi\n",
        "```\n",
        "\n",
        "Zaprezentujmy to na możliwie najprostszym przykładzie. Chcemy dokonać konwersji tekstu na liczbę. Np. '1234' na liczbę 1234"
      ]
    },
    {
      "cell_type": "code",
      "metadata": {
        "colab": {
          "base_uri": "https://localhost:8080/"
        },
        "id": "I8Ou2xY2Nb1K",
        "outputId": "81d4b342-7b73-49cb-a2a4-4bd5455df47c"
      },
      "source": [
        "tekst = \"1234\"\n",
        "x = int(tekst)\n",
        "print(f'Wczytaliśmy wartość {x}')\n"
      ],
      "execution_count": 1,
      "outputs": [
        {
          "output_type": "stream",
          "name": "stdout",
          "text": [
            "Wczytaliśmy wartość 1234\n"
          ]
        }
      ]
    },
    {
      "cell_type": "markdown",
      "metadata": {
        "id": "JHXKgfj7Nb1M"
      },
      "source": [
        "Jednak kiedy spróbujemy wszystko wykonać dla danych wprowadzonych bez znajomości działania naszego kodu"
      ]
    },
    {
      "cell_type": "code",
      "metadata": {
        "colab": {
          "base_uri": "https://localhost:8080/"
        },
        "id": "OLgJjVC6Nb1N",
        "outputId": "872ae55a-233d-4dc8-d3ad-b9464c5e8cdf"
      },
      "source": [
        "tekst = \"sowa\"\n",
        "try: \n",
        "  x = int(tekst)\n",
        "except:  \n",
        "  x = 0;\n",
        "  print(\"Nie udało się skonwertować wartości\")\n",
        "  \n",
        "print(f'Wczytaliśmy wartość {x}')\n"
      ],
      "execution_count": 4,
      "outputs": [
        {
          "output_type": "stream",
          "name": "stdout",
          "text": [
            "Nie udało się skonwertować wartości\n",
            "Wczytaliśmy wartość 0\n"
          ]
        }
      ]
    },
    {
      "cell_type": "markdown",
      "metadata": {
        "id": "JwHsv3yFNb1O"
      },
      "source": [
        "otrzymamy komunikat o przerwaniu działania. Funkcja int nie umiała sobie poradzić z przekazym jej parametrem i zakończyła swoje działanie w stanie niepoprawnym (nie była w stanie wygenerować liczby na podstawie przekazanego tekstu). Przypuśćmy, że problem ten chcielibyśmy naprawić poprzez wstawienie wartości $1$ w każdej sytuacji, gdy konwersja się nie powiedzie. Zostanie to zapisane tak"
      ]
    },
    {
      "cell_type": "code",
      "metadata": {
        "id": "TOdiB05fNb1O",
        "outputId": "e6427229-4776-471c-abb8-53202916add6"
      },
      "source": [
        "tekst = \"sowa\"\n",
        "try: # rozpoczynamy kod zagrożony niepoprawnym przetworzeniem\n",
        "    x = int(tekst)\n",
        "except: # tu znajduje się kod naprawy sytuacji z błędem\n",
        "    x = 1\n",
        "print(f'Wczytaliśmy wartość {x}')"
      ],
      "execution_count": null,
      "outputs": [
        {
          "name": "stdout",
          "output_type": "stream",
          "text": [
            "Wczytaliśmy wartość 1\n"
          ]
        }
      ]
    },
    {
      "cell_type": "markdown",
      "metadata": {
        "id": "D_CYuuZMNb1P"
      },
      "source": [
        "W szczególności zauważmy, że nie pojawiła się żadna informacja o tym, że nastąpił jakiś błąd. Program mógł się dalej wykonywać zupełnie poprawnie."
      ]
    },
    {
      "cell_type": "markdown",
      "metadata": {
        "id": "jhdWB5MFNb1P"
      },
      "source": [
        "# Proces obsługi wyjątku\n",
        "\n",
        "Proces obsługi wyjątku można sobie wyobrazić za pomocą naszej metafory z pasem dla karetek. Pamiętamy, że karetka jest pojazdem uprzywilejowanym jedynie w chwili gdy ma uruchomione sygnały dzwiękowe i świetlne - przez pozostały czas porusza się zgodnie z przepisami ruchu drogowego - zatem w szczególności nie może korzystać z pasa dla pojazdów uprzywilejowanych.\n",
        "\n",
        "Zupełnie podobnie działają interpretery - mają zapasowy porządek przetwarzania instrukcji (dodatkowy pas), który jest wykorzystywany do radzenia sobie z wyjątkowymi sytuacjami. Omówimy to dokładnie pokazując odpowiedni przykład"
      ]
    },
    {
      "cell_type": "code",
      "metadata": {
        "id": "gfG6OiAHNb1P",
        "colab": {
          "base_uri": "https://localhost:8080/"
        },
        "outputId": "a4125fa9-2fe4-44f3-f139-28b0c9f65274"
      },
      "source": [
        "lista = ['1234', '1000000', 'sowa', 'lis', '1001']\n",
        "wyniki = []\n",
        "try:\n",
        "    for liczba in lista:\n",
        "        wyniki.append(int(liczba)) #konwertuj liczbe i dodaj na liste\n",
        "except:\n",
        "    print('Wystapił błąd w przetwarzaniu')\n",
        "print(f'Program kończy działanie. Lista ma postać {wyniki}')"
      ],
      "execution_count": 5,
      "outputs": [
        {
          "output_type": "stream",
          "name": "stdout",
          "text": [
            "Wystapił błąd w przetwarzaniu\n",
            "Program kończy działanie. Lista ma postać [1234, 1000000]\n"
          ]
        }
      ]
    },
    {
      "cell_type": "code",
      "metadata": {
        "colab": {
          "base_uri": "https://localhost:8080/"
        },
        "id": "tAU1p9CDS2xy",
        "outputId": "34923e5b-de12-4d59-c000-7eea9d0c65f3"
      },
      "source": [
        "lista = ['1234', '1000000', 'sowa', 'lis', '1001']\n",
        "wyniki = []\n",
        "for liczba in lista:\n",
        "    try:\n",
        "      wyniki.append(int(liczba)) #konwertuj liczbe i dodaj na liste\n",
        "    except:\n",
        "      print(f\"Trafiła nam się wartość która nie jest liczbą {liczba}\")\n",
        "    \n",
        "print(f'Program kończy działanie. Lista ma postać {wyniki}')\n",
        "        "
      ],
      "execution_count": 6,
      "outputs": [
        {
          "output_type": "stream",
          "name": "stdout",
          "text": [
            "Trafiła nam się wartość która nie jest liczbą sowa\n",
            "Trafiła nam się wartość która nie jest liczbą lis\n",
            "Program kończy działanie. Lista ma postać [1234, 1000000, 1001]\n"
          ]
        }
      ]
    },
    {
      "cell_type": "markdown",
      "metadata": {
        "id": "Hovf53yMNb1Q"
      },
      "source": [
        "Zauważmy, co dzieje się w programie. Mamy listę elementów, które mają zostać konwertowane do liczb. Wśród nich jest nasz literał 'sowa', który nie poddaje się ten konwersji.\n",
        "\n",
        "1. Początkowo program działa poprawnie - elementy z listy '1234' oraz '1000000' zostają poprawnie skonwertowane i dodane do listy wynikowej.\n",
        "1. Pojawia się literał 'sowa' i instrukcja int('sowa') nie zostaje poprawnie wykonana. W informatyce nazywamy ten moment zgłoszeniem (lub rzuceniem) wyjątku (**raise** , **throw**).\n",
        "1. Uruchomiony zostaje tryb awaryjny (karetka włącza syrenę i zjeżdża na pas dla karetek).\n",
        "1. Wszystkie instrukcje zapisane w Python od tego miejsca są pomijane (jedziemy innym pasem).\n",
        "1. Docieramy do najbliższego bloku obsługi (sprawdzamy czy może on nam pomóc - aka czy ten szpital ma odpowiedni oddział, jeśli tak to wykonujemy instrukcje naprawy). Tu wypisywany jest komunikat ('wystąpił błąd w przetwarzaniu')\n",
        "1. Powracamy do normalnego przetwarzania ale już na końcu po zakończeniu tego bloku. \n",
        "\n",
        "Zauważmy, że na skutek przechodzenia na koniec bloku dwie rzeczy się nie stały się w naszym kodzie\n",
        "* literał 'lis' nie spowodował rzucenia wyjątku. Komunikat jest w końcu tylko 1.\n",
        "* Liczba '1001' nie została skonwertowana i dołączona do listy. \n",
        "\n",
        "Zupełnie inaczej wykonuje się kod zapisany z przestawiem instrukcji pętli i bloków obsługi wyjątków"
      ]
    },
    {
      "cell_type": "code",
      "metadata": {
        "id": "1z0SvlvHNb1Q",
        "outputId": "a99ac3bb-4e15-4bd1-f2c3-b9936cc66045"
      },
      "source": [
        "lista = ['1234', '1000000', 'sowa', 'lis','1001']\n",
        "wyniki = []\n",
        "for liczba in lista:\n",
        "    try:\n",
        "        wyniki.append(int(liczba)) #konwertuj liczbe i dodaj na liste\n",
        "    except:\n",
        "        print('Wystapił błąd w przetwarzaniu')\n",
        "print(f'Program kończy działanie. Lista ma postać {wyniki}')"
      ],
      "execution_count": null,
      "outputs": [
        {
          "name": "stdout",
          "output_type": "stream",
          "text": [
            "Wystapił błąd w przetwarzaniu\n",
            "Wystapił błąd w przetwarzaniu\n",
            "Program kończy działanie. Lista ma postać [1234, 1000000, 1001]\n"
          ]
        }
      ]
    },
    {
      "cell_type": "markdown",
      "metadata": {
        "id": "PJw7dIBCNb1R"
      },
      "source": [
        "# Filtrowanie wyjątków\n",
        "\n",
        "Okazuje się, że porównanie z różnymi oddziałami szpitali ma swój metaforyczny odpowiednik w składni Pythona. Okazuje się bowiem, że można utworzyć wiele bloków obsługi dla potencjalnie różnych rodzajów awarii, które mogę się trafić w bloku przechwytywania. Określić, jaki blok obsługi jest odpowiedni, można na podstawie danych które mamy o problemie - czyli typie zmiennej która została wygenerowana do zgłoszenia tej sytuacji. \n",
        "\n",
        "Zobaczmy na przykładzie"
      ]
    },
    {
      "cell_type": "code",
      "metadata": {
        "id": "1m6t5rLUNb1R",
        "colab": {
          "base_uri": "https://localhost:8080/"
        },
        "outputId": "8def0420-96f6-4754-df3d-be764d56177f"
      },
      "source": [
        "lista = ['1234', 3j+7, 'sowa', 'lis','1001','0','100']\n",
        "wyniki = []\n",
        "dziel = []\n",
        "for index in range(7):\n",
        "    try:\n",
        "        wyniki.append(int(lista[index])) #konwertuj liczbe i dodaj na liste\n",
        "        dziel.append(100 / int(lista[index]))\n",
        "    except TypeError:\n",
        "        print(f'Zły typ - otrzymano {type(lista[index])}')\n",
        "    except ValueError:\n",
        "        print(f'Podano złą wartość {lista[index]}')\n",
        "    except IndexError:\n",
        "        print(f'Próba siegniecia poza zakres tablicy na index {index}')\n",
        "#    except ZeroDivisionError:\n",
        "#        print(\"Próba dzielenia przez zero\")\n",
        "    except:\n",
        "        print(\"Wystąpił błąd z którym sobie nie radzimy\")\n",
        "print(f'Program kończy działanie. Lista ma postać {wyniki}')"
      ],
      "execution_count": 10,
      "outputs": [
        {
          "output_type": "stream",
          "name": "stdout",
          "text": [
            "Zły typ - otrzymano <class 'complex'>\n",
            "Podano złą wartość sowa\n",
            "Podano złą wartość lis\n",
            "Próba dzielenia przez zero\n",
            "Program kończy działanie. Lista ma postać [1234, 1001, 0, 100]\n"
          ]
        }
      ]
    },
    {
      "cell_type": "code",
      "metadata": {
        "colab": {
          "base_uri": "https://localhost:8080/"
        },
        "id": "KsCi07w7UY28",
        "outputId": "2c259081-7def-4e9e-c0c4-fbd552b5b7e3"
      },
      "source": [
        "lista = ['1234', 3j+7, 'sowa', 'lis','1001','0','100']\n",
        "wyniki = []\n",
        "dziel = []\n",
        "for index in range(7):\n",
        "    try:\n",
        "        wyniki.append(int(lista[index])) #konwertuj liczbe i dodaj na liste\n",
        "        try:\n",
        "          dziel.append(100 / int(lista[index]))\n",
        "        except:\n",
        "          print(\"Próba dzielenie przez zero\")\n",
        "    except TypeError:\n",
        "        print(f'Zły typ - otrzymano {type(lista[index])}')\n",
        "    except ValueError:\n",
        "        print(f'Podano złą wartość {lista[index]}')\n",
        "    except IndexError:\n",
        "        print(f'Próba siegniecia poza zakres tablicy na index {index}')\n",
        "    except:\n",
        "        print(\"Wystąpił błąd z którym sobie nie radzimy\")\n",
        "print(f'Program kończy działanie. Lista ma postać {wyniki}')"
      ],
      "execution_count": 11,
      "outputs": [
        {
          "output_type": "stream",
          "name": "stdout",
          "text": [
            "Zły typ - otrzymano <class 'complex'>\n",
            "Podano złą wartość sowa\n",
            "Podano złą wartość lis\n",
            "Próba dzielenie przez zero\n",
            "Program kończy działanie. Lista ma postać [1234, 1001, 0, 100]\n"
          ]
        }
      ]
    },
    {
      "cell_type": "markdown",
      "metadata": {
        "id": "CX5iMI6sNb1R"
      },
      "source": [
        "Widzimy w powyższym przykładzie, że w zależności od typu problemu mogą być uruchamiane różne bloki naprawcze. Natomiast jeśli odpowiedni blok naprawczy się nie pojawi"
      ]
    },
    {
      "cell_type": "code",
      "metadata": {
        "id": "dccE8nCaNb1S",
        "colab": {
          "base_uri": "https://localhost:8080/"
        },
        "outputId": "aba7882e-3695-4b7e-bc26-b4512594104b"
      },
      "source": [
        "lista = ['1234', 3j+7, 'sowa', 'lis','1001']\n",
        "wyniki = []\n",
        "for index in range(7):\n",
        "    try:\n",
        "        wyniki.append(int(lista[index])) #konwertuj liczbe i dodaj na liste\n",
        "    except TypeError:\n",
        "        print(f'Zły typ - otrzymano {type(lista[index])}')\n",
        "    except ValueError:\n",
        "        print(f'Podano złą wartość {lista[index]}')\n",
        "    except:\n",
        "        print(\"Wystąpił błąd z którym sobie nie radzę\")\n",
        "print(f'Program kończy działanie. Lista ma postać {wyniki}')"
      ],
      "execution_count": 13,
      "outputs": [
        {
          "output_type": "stream",
          "name": "stdout",
          "text": [
            "Zły typ - otrzymano <class 'complex'>\n",
            "Podano złą wartość sowa\n",
            "Podano złą wartość lis\n",
            "Wystąpił błąd z którym sobie nie radzę\n",
            "Wystąpił błąd z którym sobie nie radzę\n",
            "Program kończy działanie. Lista ma postać [1234, 1001]\n"
          ]
        }
      ]
    },
    {
      "cell_type": "code",
      "metadata": {
        "colab": {
          "base_uri": "https://localhost:8080/"
        },
        "id": "Mktc2aGiOBXT",
        "outputId": "07b463ca-0eb4-4e95-a554-a740669c3ff6"
      },
      "source": [
        "while True:\n",
        "  try:\n",
        "    x = int(input(\"Proszę wprowadzić cyfrę: \"))\n",
        "    break\n",
        "  except ValueError:\n",
        "    print(\"Oops! To nie jest numer. Spróbuj ponownie...\")"
      ],
      "execution_count": 14,
      "outputs": [
        {
          "name": "stdout",
          "output_type": "stream",
          "text": [
            "Proszę wprowadzić cyfrę: aaa\n",
            "Oops! To nie jest numer. Spróbuj ponownie...\n",
            "Proszę wprowadzić cyfrę: bbbb\n",
            "Oops! To nie jest numer. Spróbuj ponownie...\n",
            "Proszę wprowadzić cyfrę: 111\n"
          ]
        }
      ]
    },
    {
      "cell_type": "code",
      "metadata": {
        "colab": {
          "base_uri": "https://localhost:8080/",
          "height": 970
        },
        "id": "PKhTv0xmVoKT",
        "outputId": "05ee6d02-116c-45e9-aaac-2be833019282"
      },
      "source": [
        "class ZaMalaException(Exception):\n",
        "    pass\n",
        "\n",
        "class ZaDuzaException(Exception):\n",
        "    pass\n",
        "\n",
        "while True:\n",
        "  try:\n",
        "    x = int(input(\"Proszę wprowadzić cyfrę z zakresu od 0 do 100: \"))    \n",
        "    if (x < 0):\n",
        "      raise ZaMalaException()\n",
        "    if (x > 100):\n",
        "      raise ZaDuzaException()\n",
        "    break\n",
        "  except ValueError:\n",
        "    print(\"Oops! To nie jest numer. Spróbuj ponownie...\")\n",
        "  except ZaMalaException:\n",
        "    print(\"Podałeś wartość poniżej wymaganej\")\n",
        "  except ZaDuzaException:\n",
        "    print(\"Podałeś wartość poniżej wymaganej\")    "
      ],
      "execution_count": 25,
      "outputs": [
        {
          "output_type": "error",
          "ename": "KeyboardInterrupt",
          "evalue": "ignored",
          "traceback": [
            "\u001b[0;31m---------------------------------------------------------------------------\u001b[0m",
            "\u001b[0;31mKeyboardInterrupt\u001b[0m                         Traceback (most recent call last)",
            "\u001b[0;32m/usr/local/lib/python3.7/dist-packages/ipykernel/kernelbase.py\u001b[0m in \u001b[0;36m_input_request\u001b[0;34m(self, prompt, ident, parent, password)\u001b[0m\n\u001b[1;32m    728\u001b[0m             \u001b[0;32mtry\u001b[0m\u001b[0;34m:\u001b[0m\u001b[0;34m\u001b[0m\u001b[0;34m\u001b[0m\u001b[0m\n\u001b[0;32m--> 729\u001b[0;31m                 \u001b[0mident\u001b[0m\u001b[0;34m,\u001b[0m \u001b[0mreply\u001b[0m \u001b[0;34m=\u001b[0m \u001b[0mself\u001b[0m\u001b[0;34m.\u001b[0m\u001b[0msession\u001b[0m\u001b[0;34m.\u001b[0m\u001b[0mrecv\u001b[0m\u001b[0;34m(\u001b[0m\u001b[0mself\u001b[0m\u001b[0;34m.\u001b[0m\u001b[0mstdin_socket\u001b[0m\u001b[0;34m,\u001b[0m \u001b[0;36m0\u001b[0m\u001b[0;34m)\u001b[0m\u001b[0;34m\u001b[0m\u001b[0;34m\u001b[0m\u001b[0m\n\u001b[0m\u001b[1;32m    730\u001b[0m             \u001b[0;32mexcept\u001b[0m \u001b[0mException\u001b[0m\u001b[0;34m:\u001b[0m\u001b[0;34m\u001b[0m\u001b[0;34m\u001b[0m\u001b[0m\n",
            "\u001b[0;32m/usr/local/lib/python3.7/dist-packages/jupyter_client/session.py\u001b[0m in \u001b[0;36mrecv\u001b[0;34m(self, socket, mode, content, copy)\u001b[0m\n\u001b[1;32m    802\u001b[0m         \u001b[0;32mtry\u001b[0m\u001b[0;34m:\u001b[0m\u001b[0;34m\u001b[0m\u001b[0;34m\u001b[0m\u001b[0m\n\u001b[0;32m--> 803\u001b[0;31m             \u001b[0mmsg_list\u001b[0m \u001b[0;34m=\u001b[0m \u001b[0msocket\u001b[0m\u001b[0;34m.\u001b[0m\u001b[0mrecv_multipart\u001b[0m\u001b[0;34m(\u001b[0m\u001b[0mmode\u001b[0m\u001b[0;34m,\u001b[0m \u001b[0mcopy\u001b[0m\u001b[0;34m=\u001b[0m\u001b[0mcopy\u001b[0m\u001b[0;34m)\u001b[0m\u001b[0;34m\u001b[0m\u001b[0;34m\u001b[0m\u001b[0m\n\u001b[0m\u001b[1;32m    804\u001b[0m         \u001b[0;32mexcept\u001b[0m \u001b[0mzmq\u001b[0m\u001b[0;34m.\u001b[0m\u001b[0mZMQError\u001b[0m \u001b[0;32mas\u001b[0m \u001b[0me\u001b[0m\u001b[0;34m:\u001b[0m\u001b[0;34m\u001b[0m\u001b[0;34m\u001b[0m\u001b[0m\n",
            "\u001b[0;32m/usr/local/lib/python3.7/dist-packages/zmq/sugar/socket.py\u001b[0m in \u001b[0;36mrecv_multipart\u001b[0;34m(self, flags, copy, track)\u001b[0m\n\u001b[1;32m    624\u001b[0m         \"\"\"\n\u001b[0;32m--> 625\u001b[0;31m         \u001b[0mparts\u001b[0m \u001b[0;34m=\u001b[0m \u001b[0;34m[\u001b[0m\u001b[0mself\u001b[0m\u001b[0;34m.\u001b[0m\u001b[0mrecv\u001b[0m\u001b[0;34m(\u001b[0m\u001b[0mflags\u001b[0m\u001b[0;34m,\u001b[0m \u001b[0mcopy\u001b[0m\u001b[0;34m=\u001b[0m\u001b[0mcopy\u001b[0m\u001b[0;34m,\u001b[0m \u001b[0mtrack\u001b[0m\u001b[0;34m=\u001b[0m\u001b[0mtrack\u001b[0m\u001b[0;34m)\u001b[0m\u001b[0;34m]\u001b[0m\u001b[0;34m\u001b[0m\u001b[0;34m\u001b[0m\u001b[0m\n\u001b[0m\u001b[1;32m    626\u001b[0m         \u001b[0;31m# have first part already, only loop while more to receive\u001b[0m\u001b[0;34m\u001b[0m\u001b[0;34m\u001b[0m\u001b[0;34m\u001b[0m\u001b[0m\n",
            "\u001b[0;32mzmq/backend/cython/socket.pyx\u001b[0m in \u001b[0;36mzmq.backend.cython.socket.Socket.recv\u001b[0;34m()\u001b[0m\n",
            "\u001b[0;32mzmq/backend/cython/socket.pyx\u001b[0m in \u001b[0;36mzmq.backend.cython.socket.Socket.recv\u001b[0;34m()\u001b[0m\n",
            "\u001b[0;32mzmq/backend/cython/socket.pyx\u001b[0m in \u001b[0;36mzmq.backend.cython.socket._recv_copy\u001b[0;34m()\u001b[0m\n",
            "\u001b[0;32m/usr/local/lib/python3.7/dist-packages/zmq/backend/cython/checkrc.pxd\u001b[0m in \u001b[0;36mzmq.backend.cython.checkrc._check_rc\u001b[0;34m()\u001b[0m\n",
            "\u001b[0;31mKeyboardInterrupt\u001b[0m: ",
            "\nDuring handling of the above exception, another exception occurred:\n",
            "\u001b[0;31mKeyboardInterrupt\u001b[0m                         Traceback (most recent call last)",
            "\u001b[0;32m<ipython-input-25-09cfa3bb51e5>\u001b[0m in \u001b[0;36m<module>\u001b[0;34m()\u001b[0m\n\u001b[1;32m      7\u001b[0m \u001b[0;32mwhile\u001b[0m \u001b[0;32mTrue\u001b[0m\u001b[0;34m:\u001b[0m\u001b[0;34m\u001b[0m\u001b[0;34m\u001b[0m\u001b[0m\n\u001b[1;32m      8\u001b[0m   \u001b[0;32mtry\u001b[0m\u001b[0;34m:\u001b[0m\u001b[0;34m\u001b[0m\u001b[0;34m\u001b[0m\u001b[0m\n\u001b[0;32m----> 9\u001b[0;31m     \u001b[0mx\u001b[0m \u001b[0;34m=\u001b[0m \u001b[0mint\u001b[0m\u001b[0;34m(\u001b[0m\u001b[0minput\u001b[0m\u001b[0;34m(\u001b[0m\u001b[0;34m\"Proszę wprowadzić cyfrę z zakresu od 0 do 100: \"\u001b[0m\u001b[0;34m)\u001b[0m\u001b[0;34m)\u001b[0m\u001b[0;34m\u001b[0m\u001b[0;34m\u001b[0m\u001b[0m\n\u001b[0m\u001b[1;32m     10\u001b[0m     \u001b[0;32mif\u001b[0m \u001b[0;34m(\u001b[0m\u001b[0mx\u001b[0m \u001b[0;34m<\u001b[0m \u001b[0;36m0\u001b[0m\u001b[0;34m)\u001b[0m\u001b[0;34m:\u001b[0m\u001b[0;34m\u001b[0m\u001b[0;34m\u001b[0m\u001b[0m\n\u001b[1;32m     11\u001b[0m       \u001b[0;32mraise\u001b[0m \u001b[0mZaMalaException\u001b[0m\u001b[0;34m(\u001b[0m\u001b[0;34m)\u001b[0m\u001b[0;34m\u001b[0m\u001b[0;34m\u001b[0m\u001b[0m\n",
            "\u001b[0;32m/usr/local/lib/python3.7/dist-packages/ipykernel/kernelbase.py\u001b[0m in \u001b[0;36mraw_input\u001b[0;34m(self, prompt)\u001b[0m\n\u001b[1;32m    702\u001b[0m             \u001b[0mself\u001b[0m\u001b[0;34m.\u001b[0m\u001b[0m_parent_ident\u001b[0m\u001b[0;34m,\u001b[0m\u001b[0;34m\u001b[0m\u001b[0;34m\u001b[0m\u001b[0m\n\u001b[1;32m    703\u001b[0m             \u001b[0mself\u001b[0m\u001b[0;34m.\u001b[0m\u001b[0m_parent_header\u001b[0m\u001b[0;34m,\u001b[0m\u001b[0;34m\u001b[0m\u001b[0;34m\u001b[0m\u001b[0m\n\u001b[0;32m--> 704\u001b[0;31m             \u001b[0mpassword\u001b[0m\u001b[0;34m=\u001b[0m\u001b[0;32mFalse\u001b[0m\u001b[0;34m,\u001b[0m\u001b[0;34m\u001b[0m\u001b[0;34m\u001b[0m\u001b[0m\n\u001b[0m\u001b[1;32m    705\u001b[0m         )\n\u001b[1;32m    706\u001b[0m \u001b[0;34m\u001b[0m\u001b[0m\n",
            "\u001b[0;32m/usr/local/lib/python3.7/dist-packages/ipykernel/kernelbase.py\u001b[0m in \u001b[0;36m_input_request\u001b[0;34m(self, prompt, ident, parent, password)\u001b[0m\n\u001b[1;32m    732\u001b[0m             \u001b[0;32mexcept\u001b[0m \u001b[0mKeyboardInterrupt\u001b[0m\u001b[0;34m:\u001b[0m\u001b[0;34m\u001b[0m\u001b[0;34m\u001b[0m\u001b[0m\n\u001b[1;32m    733\u001b[0m                 \u001b[0;31m# re-raise KeyboardInterrupt, to truncate traceback\u001b[0m\u001b[0;34m\u001b[0m\u001b[0;34m\u001b[0m\u001b[0;34m\u001b[0m\u001b[0m\n\u001b[0;32m--> 734\u001b[0;31m                 \u001b[0;32mraise\u001b[0m \u001b[0mKeyboardInterrupt\u001b[0m\u001b[0;34m\u001b[0m\u001b[0;34m\u001b[0m\u001b[0m\n\u001b[0m\u001b[1;32m    735\u001b[0m             \u001b[0;32melse\u001b[0m\u001b[0;34m:\u001b[0m\u001b[0;34m\u001b[0m\u001b[0;34m\u001b[0m\u001b[0m\n\u001b[1;32m    736\u001b[0m                 \u001b[0;32mbreak\u001b[0m\u001b[0;34m\u001b[0m\u001b[0;34m\u001b[0m\u001b[0m\n",
            "\u001b[0;31mKeyboardInterrupt\u001b[0m: "
          ]
        }
      ]
    },
    {
      "cell_type": "code",
      "metadata": {
        "colab": {
          "base_uri": "https://localhost:8080/"
        },
        "id": "-V9hIOVzOKbY",
        "outputId": "1bc79dfd-af55-4d73-f74b-e149488416bd"
      },
      "source": [
        "def divide(x, y):\n",
        "  try:\n",
        "    result = x / y\n",
        "  except ZeroDivisionError:\n",
        "    print(\"dzielenie przez zero!\")\n",
        "  else:\n",
        "    print(\"wynikiem operacji jest\", result)\n",
        "  finally:\n",
        "    print(\"kończymy działanie\\n\")\n",
        "\n",
        "divide(10, 5)\n",
        "divide(10, 0)"
      ],
      "execution_count": 23,
      "outputs": [
        {
          "output_type": "stream",
          "name": "stdout",
          "text": [
            "wynikiem operacji jest 2.0\n",
            "kończymy działanie\n",
            "\n",
            "dzielenie przez zero!\n",
            "kończymy działanie\n",
            "\n"
          ]
        }
      ]
    },
    {
      "cell_type": "markdown",
      "metadata": {
        "id": "52D7lOUzNb1S"
      },
      "source": [
        "przetwarzanie w trybie wyjątku nie zostaje zawieszone i powoduje zakończenie programu z komunikatem o błędzie."
      ]
    },
    {
      "cell_type": "markdown",
      "metadata": {
        "id": "04XDEzwLNb1S"
      },
      "source": [
        "# Popularne typy wyjątków\n",
        "\n",
        "Warto wyjaśnić, że rodzajów błędów (typów danych reprezentujących błąd) może być w zasadzie dowolnie wiele. Jednak zwłaszcza na początku pracy z językiem warto wyszczególnić kilka z nich - choćby dlatego, że możemy uzyskać informację o ich wyniknięciu z naszego kodu\n",
        "\n",
        "| **Typ wyjątku** | **Opis** |\n",
        "| :--- |:--- |\n",
        "| IOError | Błąd odczytu pliku lub podobnego zasobu |\n",
        "| IndexError | Błąd próby pobrania nie istniejącego elementu z kolekcji |\n",
        "| KeyError | Brak danego klucza w kolekcji |\n",
        "| NameError | Brak zdefiniowania zmiennej o danej nazwie |\n",
        "| SyntaxError | Niepoprawnie użyta składnia języka |\n",
        "| TypeError | Próba użycia niepasującego typu |\n",
        "| ValueError | Próba użycia niepoprawnej wartości |\n",
        "| ZeroDivisionError | Próba dokonania dzielenia przez 0 |\n",
        "\n",
        "\n",
        "\n",
        "# Zgłaszanie wyjątków\n",
        "\n",
        "Aby przykłady, które mamy tu powyżej, działały - musiało zostać spełnione pewne wymaganie. Otóż funkcja int() -  a dokładnie jej autorzy - musieli przewidzieć, że może dojść do takiej sytuacji gdy ktoś podaje na jej wejście niepoprawny literał. Problem nie leży w ich kodzie - gdyby tak było, to by go naprawili. Problem leży w tym, że ktoś źle korzysta z przygotowanego przez nich kodu. Jak zatem dać temu komuś znać, że źle robi? Najprościej właśnie poprzez rzucenie wyjątku. W tej części zaprezentujemy jak można zgłosić wyjątek w wybranej linijce kodu i rozpocząć całe przetwarzanie.\n",
        "\n"
      ]
    },
    {
      "cell_type": "code",
      "metadata": {
        "id": "Yvf6LoZXNb1T",
        "colab": {
          "base_uri": "https://localhost:8080/"
        },
        "outputId": "ad6c96cb-4e5d-4e27-b2a7-4675e271fe41"
      },
      "source": [
        "def funkcja_z_wyjatkiem(x):\n",
        "    if type(x) is int:\n",
        "        return 1\n",
        "    elif type(x) is float:\n",
        "        return 2\n",
        "    else:\n",
        "        raise ValueError(f'x ma niepoprawny typ i zawiera wartość \"{x}\"')\n",
        "\n",
        "dane = [3.14, 3, 'sowa']\n",
        "\n",
        "try:\n",
        "  for dana in dane:\n",
        "    print(funkcja_z_wyjatkiem(dana))\n",
        "except ValueError as e:\n",
        "    print(f\"Wystąpił błąd w wyonaniu funkcji: {e}\")"
      ],
      "execution_count": 51,
      "outputs": [
        {
          "output_type": "stream",
          "name": "stdout",
          "text": [
            "2\n",
            "1\n",
            "Wystąpił błąd w wyonaniu funkcji: x ma niepoprawny typ i zawiera wartość \"sowa\"\n"
          ]
        }
      ]
    },
    {
      "cell_type": "code",
      "metadata": {
        "colab": {
          "base_uri": "https://localhost:8080/"
        },
        "id": "_X6al2o7YjE9",
        "outputId": "6c1bf2f4-e316-4022-c7ce-0aa71141e3ef"
      },
      "source": [
        "import math\n",
        "\n",
        "n = int(input(\"Podaj n: \"))\n",
        "try:\n",
        "  p = math.sqrt(n)\n",
        "  if n == int(p)*int(p):\n",
        "    print(p)\n",
        "  else:\n",
        "    print(\"Nie ma\")\n",
        "except:\n",
        "  print(f\"Wprowadzona wartość {n} jest błędna\")"
      ],
      "execution_count": 33,
      "outputs": [
        {
          "output_type": "stream",
          "name": "stdout",
          "text": [
            "Podaj n: 22\n",
            "Nie ma\n"
          ]
        }
      ]
    },
    {
      "cell_type": "markdown",
      "metadata": {
        "id": "qKd7cnfqNb1T"
      },
      "source": [
        "Kluczowe okazuje się tu zgłoszenie błędu, czyli instrukcja **raise**. Tak dokładnie to w linijce tej tworzony jest nowy obiekt w typie ValueError. Jednak do pełnego zrozumienia niuansów tej składni potrzebny będzie kolejny temat Państwa szkolenia - programowanie obiektowe."
      ]
    },
    {
      "cell_type": "markdown",
      "metadata": {
        "id": "XDnhOaBTNb1T"
      },
      "source": [
        "# Obsługa plików w Python\n",
        "\n",
        "Do pracy z plikami w Python kluczowe jest opanowanie działania funkcji open\n",
        "\n",
        "```python\n",
        "uchwyt_do_pliku = open(nazwa_pliku,tryb_pracy)\n",
        "```\n",
        "\n",
        "* nazwa_pliku oczywiście oznacza ścieżkę do pliku w systemie operacyjnym,\n",
        "* tryb pracy może być odrobinę enigmatycznym. Jest to wyrażony za pomocą string zestaw nastawień dla danego pliku. W szczególności\n",
        "    * \"r\" oznacza uprawnienia do odczytu, wyjątek oznacza brak pliku\n",
        "    * \"a\" oznacza uprawnienia na dopisywanie do pliku (append), jeśli plik nie istnieje to zostanie utworzony\n",
        "    * \"w\" oznacza uprawnienia do zapisu (nadpisania) pliku, jeśli plik nie istnieje to zostanie utworzony\n",
        "    * \"x\" oznacza utworzenie pliku. Jeśli plik istnieje - rzucony zostanie wyjątek\n",
        "    * \"t\" oznacza plik otwarty jako tekstowy (obszary pamięci interpretowane jako znaki alfabetu)\n",
        "    * \"b\" oznacza plik otwarty jako binarny (obszary pamięci interpretowane jako kolejne liczby)\n",
        "  domyślny tryb_pracy to \"rt\"\n",
        "* zwracany jest uchwyt do pliku, co można interpretować jak kursor czytający dany plik.\n",
        "\n",
        "należy również pamiętać, że pliki otwarte za pomocą **open** - powinny zostać na końcu zamknięte operacją **close**.\n",
        "\n",
        "Do przeczytania elementów pliku można np. użyć funkcji czytających całą linijkę tekstu **readline**"
      ]
    },
    {
      "cell_type": "code",
      "metadata": {
        "id": "VbzwdWBWdInv"
      },
      "source": [
        "import requests\n",
        "\n",
        "def pobierzPlik(url, nazwaPliku):\n",
        "  try:\n",
        "    req = requests.get(url, stream=True)\n",
        "    with open(nazwaPliku, 'wb') as uchwytPliku:\n",
        "        for chunk in req.iter_content():\n",
        "            uchwytPliku.write(chunk)\n",
        "  except:\n",
        "    print(f\"Nie udało się pobrać pliku {url}\")\n",
        "\n",
        "pobierzPlik(\"https://github.com/rroszczyk/Python/raw/master/Pliki/iliada.txt\", \"iliada.txt\")"
      ],
      "execution_count": 53,
      "outputs": []
    },
    {
      "cell_type": "code",
      "metadata": {
        "id": "OCz-SwqHNb1U",
        "colab": {
          "base_uri": "https://localhost:8080/"
        },
        "outputId": "90f1c046-4583-4e97-c4b9-6571fb346788"
      },
      "source": [
        "plik = open('iliada.txt', 'rt')\n",
        "for i in range(10):\n",
        "    print(plik.readline(), end='')\n",
        "plik.close()"
      ],
      "execution_count": 35,
      "outputs": [
        {
          "output_type": "stream",
          "name": "stdout",
          "text": [
            "Book I\n",
            "\n",
            "Sing, O goddess, the anger of Achilles son of Peleus, that brought countless ills upon the Achaeans. Many a brave soul did it send hurrying down to Hades, and many a hero did it yield a prey to dogs and vultures, for so were the counsels of Jove fulfilled from the day on which the son of Atreus, king of men, and great Achilles, first fell out with one another.\n",
            "\n",
            "And which of the gods was it that set them on to quarrel? It was the son of Jove and Leto; for he was angry with the king and sent a pestilence upon the host to plague the people, because the son of Atreus had dishonoured Chryses his priest. Now Chryses had come to the ships of the Achaeans to free his daughter, and had brought with him a great ransom: moreover he bore in his hand the sceptre of Apollo wreathed with a suppliant's wreath and he besought the Achaeans, but most of all the two sons of Atreus, who were their chiefs.\n",
            "\n",
            "\"Sons of Atreus,\" he cried, \"and all other Achaeans, may the gods who dwell in Olympus grant you to sack the city of Priam, and to reach your homes in safety; but free my daughter, and accept a ransom for her, in reverence to Apollo, son of Jove.\"\n",
            "\n",
            "On this the rest of the Achaeans with one voice were for respecting the priest and taking the ransom that he offered; but not so Agamemnon, who spoke fiercely to him and sent him roughly away. \"Old man,\" said he, \"let me not find you tarrying about our ships, nor yet coming hereafter. Your sceptre of the god and your wreath shall profit you nothing. I will not free her. She shall grow old in my house at Argos far from her own home, busying herself with her loom and visiting my couch; so go, and do not provoke me or it shall be the worse for you.\"\n",
            "\n"
          ]
        }
      ]
    },
    {
      "cell_type": "markdown",
      "metadata": {
        "id": "DvCchSueNb1U"
      },
      "source": [
        "## Funkcja write\n",
        "\n",
        "Do zapisywania w pliku należy używać funkcji **write**. Zaprezentujemy jej działanie przepisując 5 pierwszych linijek z pliku **iliada.txt** do pliku **kopia.txt** "
      ]
    },
    {
      "cell_type": "code",
      "metadata": {
        "id": "zD1O9rtRNb1U"
      },
      "source": [
        "try:\n",
        "  plik = open('iliada.txt', 'rt')\n",
        "  try:\n",
        "    kopia = open('kopia.txt', 'wt')\n",
        "    for i in range(5):\n",
        "      linijka = plik.readline()\n",
        "      kopia.write(linijka)\n",
        "    kopia.close()\n",
        "  except:\n",
        "    print(\"Jakiś wyjątek w obsłudze kopii\")\n",
        "except:\n",
        "  print(\"Jakiś wyjątek w obsłudze pliku\")\n",
        "finally:\n",
        "  plik.close()\n"
      ],
      "execution_count": 36,
      "outputs": []
    },
    {
      "cell_type": "markdown",
      "metadata": {
        "id": "GEs2g4KKNb1U"
      },
      "source": [
        "Upewnijmy się odczytując całą zawartość pliku kopia.txt - przy okazji pokażemy jak można iterować po linijkach pliku"
      ]
    },
    {
      "cell_type": "code",
      "metadata": {
        "colab": {
          "base_uri": "https://localhost:8080/"
        },
        "id": "nB_Yl_6LNb1V",
        "outputId": "6d3ff9a6-1624-4663-b55b-6a813baec8c2"
      },
      "source": [
        "plik = open('kopia.txt', 'rt')\n",
        "for linijka in plik:\n",
        "    print(linijka)\n",
        "plik.close()\n",
        "    "
      ],
      "execution_count": 38,
      "outputs": [
        {
          "output_type": "stream",
          "name": "stdout",
          "text": [
            "Book I\n",
            "\n",
            "\n",
            "\n",
            "Sing, O goddess, the anger of Achilles son of Peleus, that brought countless ills upon the Achaeans. Many a brave soul did it send hurrying down to Hades, and many a hero did it yield a prey to dogs and vultures, for so were the counsels of Jove fulfilled from the day on which the son of Atreus, king of men, and great Achilles, first fell out with one another.\n",
            "\n",
            "\n",
            "\n",
            "And which of the gods was it that set them on to quarrel? It was the son of Jove and Leto; for he was angry with the king and sent a pestilence upon the host to plague the people, because the son of Atreus had dishonoured Chryses his priest. Now Chryses had come to the ships of the Achaeans to free his daughter, and had brought with him a great ransom: moreover he bore in his hand the sceptre of Apollo wreathed with a suppliant's wreath and he besought the Achaeans, but most of all the two sons of Atreus, who were their chiefs.\n",
            "\n"
          ]
        }
      ]
    },
    {
      "cell_type": "markdown",
      "metadata": {
        "id": "HCnwg-hkNb1V"
      },
      "source": [
        "Przydatna może być również następująca wersja"
      ]
    },
    {
      "cell_type": "code",
      "metadata": {
        "colab": {
          "base_uri": "https://localhost:8080/"
        },
        "id": "n4xWqAm9Nb1V",
        "outputId": "7eec3502-02cf-4707-e6a9-6eba28f7b515"
      },
      "source": [
        "plik = open('iliada.txt', 'rt')\n",
        "for no, linijka in zip(range(5),plik):\n",
        "    print(f'{no} - {linijka}')\n",
        "plik.close()"
      ],
      "execution_count": 40,
      "outputs": [
        {
          "output_type": "stream",
          "name": "stdout",
          "text": [
            "0 - Book I\n",
            "\n",
            "1 - \n",
            "\n",
            "2 - Sing, O goddess, the anger of Achilles son of Peleus, that brought countless ills upon the Achaeans. Many a brave soul did it send hurrying down to Hades, and many a hero did it yield a prey to dogs and vultures, for so were the counsels of Jove fulfilled from the day on which the son of Atreus, king of men, and great Achilles, first fell out with one another.\n",
            "\n",
            "3 - \n",
            "\n",
            "4 - And which of the gods was it that set them on to quarrel? It was the son of Jove and Leto; for he was angry with the king and sent a pestilence upon the host to plague the people, because the son of Atreus had dishonoured Chryses his priest. Now Chryses had come to the ships of the Achaeans to free his daughter, and had brought with him a great ransom: moreover he bore in his hand the sceptre of Apollo wreathed with a suppliant's wreath and he besought the Achaeans, but most of all the two sons of Atreus, who were their chiefs.\n",
            "\n"
          ]
        }
      ]
    },
    {
      "cell_type": "code",
      "metadata": {
        "colab": {
          "base_uri": "https://localhost:8080/"
        },
        "id": "dLpf5ffeNb1V",
        "outputId": "515e30bf-1277-4b37-8ff8-57b229388302"
      },
      "source": [
        "import sys\n",
        "\n",
        "try:\n",
        "    f = open('kopia1.txt')\n",
        "    s = f.readline()\n",
        "    f.close()\n",
        "except OSError as err:\n",
        "    print(\"Błąd systemu operacyjnego: {0}\".format(err))\n",
        "except:\n",
        "    print(\"Niespodziewany błąd:\", sys.exc_info()[0])\n"
      ],
      "execution_count": 45,
      "outputs": [
        {
          "output_type": "stream",
          "name": "stdout",
          "text": [
            "Błąd systemu operacyjnego: [Errno 2] No such file or directory: 'kopia1.txt'\n"
          ]
        }
      ]
    }
  ]
}