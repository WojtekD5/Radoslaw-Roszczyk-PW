{
  "nbformat": 4,
  "nbformat_minor": 0,
  "metadata": {
    "colab": {
      "name": "Untitled7.ipynb",
      "provenance": [],
      "authorship_tag": "ABX9TyNH583Z1m+LhkCBmX5BcmYb",
      "include_colab_link": true
    },
    "kernelspec": {
      "name": "python3",
      "display_name": "Python 3"
    },
    "language_info": {
      "name": "python"
    }
  },
  "cells": [
    {
      "cell_type": "markdown",
      "metadata": {
        "id": "view-in-github",
        "colab_type": "text"
      },
      "source": [
        "<a href=\"https://colab.research.google.com/github/rroszczyk/Python/blob/master/zbiory_rozlaczne.ipynb\" target=\"_parent\"><img src=\"https://colab.research.google.com/assets/colab-badge.svg\" alt=\"Open In Colab\"/></a>"
      ]
    },
    {
      "cell_type": "code",
      "metadata": {
        "id": "TktiWZAUnV1O"
      },
      "source": [
        "# prosta implementacja algorytmu find\n",
        "def find(parent, i):\n",
        "     \n",
        "    if (parent[i] == -1):\n",
        "        return i\n",
        "     \n",
        "    return find(parent, parent[i])\n",
        "\n",
        "# prosta implementacja algorytmu union\n",
        "def Union(parent, x, y):\n",
        " \n",
        "    xset = find(parent, x)\n",
        "    yset = find(parent, y)\n",
        "    parent[xset] = yset"
      ],
      "execution_count": 1,
      "outputs": []
    },
    {
      "cell_type": "code",
      "metadata": {
        "colab": {
          "base_uri": "https://localhost:8080/"
        },
        "id": "m9W0OSXGnj-S",
        "outputId": "389f23aa-22e9-461a-c337-3ab5ff37f98d"
      },
      "source": [
        "a = [-1, -1, -1, -1, -1, -1]\n",
        "\n",
        "# tworzymy zbiór {1, 3, 0}\n",
        "Union(a, 1, 3)\n",
        "Union(a, 3, 0)\n",
        "\n",
        "# tworzymy zbiór {2, 5}\n",
        "Union(a, 2, 5)\n",
        "\n",
        "print(a)\n",
        "\n",
        "print(find(a, 1))\n",
        "print(find(a, 3))\n",
        "print(find(a, 0))\n",
        "\n",
        "print(find(a, 2))\n",
        "print(find(a, 5))\n",
        "\n",
        "print(find(a, 4))\n"
      ],
      "execution_count": 28,
      "outputs": [
        {
          "output_type": "stream",
          "text": [
            "[-1, 3, 5, 0, -1, -1]\n",
            "0\n",
            "0\n",
            "0\n",
            "5\n",
            "5\n",
            "4\n"
          ],
          "name": "stdout"
        }
      ]
    }
  ]
}