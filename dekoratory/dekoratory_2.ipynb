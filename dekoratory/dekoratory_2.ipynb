{
  "nbformat": 4,
  "nbformat_minor": 0,
  "metadata": {
    "colab": {
      "name": "dekoratory_2.ipynb",
      "provenance": [],
      "authorship_tag": "ABX9TyNRQEG4RYWpaae16ld6dHCL",
      "include_colab_link": true
    },
    "kernelspec": {
      "name": "python3",
      "display_name": "Python 3"
    },
    "language_info": {
      "name": "python"
    }
  },
  "cells": [
    {
      "cell_type": "markdown",
      "metadata": {
        "id": "view-in-github",
        "colab_type": "text"
      },
      "source": [
        "<a href=\"https://colab.research.google.com/github/rroszczyk/Python/blob/master/dekoratory/dekoratory_2.ipynb\" target=\"_parent\"><img src=\"https://colab.research.google.com/assets/colab-badge.svg\" alt=\"Open In Colab\"/></a>"
      ]
    },
    {
      "cell_type": "code",
      "source": [
        "from time import sleep, time"
      ],
      "metadata": {
        "id": "oR-5pmN0mXYH"
      },
      "execution_count": 33,
      "outputs": []
    },
    {
      "cell_type": "code",
      "execution_count": 1,
      "metadata": {
        "id": "jtzpK1VJeVoy"
      },
      "outputs": [],
      "source": [
        "def hello():\n",
        "  print(\"Witaj świecie !!!\")\n",
        "\n"
      ]
    },
    {
      "cell_type": "code",
      "source": [
        "hi = hello\n",
        "\n",
        "hi()\n",
        "hello()"
      ],
      "metadata": {
        "colab": {
          "base_uri": "https://localhost:8080/"
        },
        "id": "K33sDGOOemiU",
        "outputId": "d0cd26a0-1e68-4fec-bbb9-b901ddaede2c"
      },
      "execution_count": 4,
      "outputs": [
        {
          "output_type": "stream",
          "name": "stdout",
          "text": [
            "Witaj świecie !!!\n",
            "Witaj świecie !!!\n"
          ]
        }
      ]
    },
    {
      "cell_type": "code",
      "source": [
        "print(hi)\n",
        "print(hello)"
      ],
      "metadata": {
        "colab": {
          "base_uri": "https://localhost:8080/"
        },
        "id": "g4Y6_WQBeu2V",
        "outputId": "c1ddda1b-cbb7-48e5-a5e8-87e48f64bacf"
      },
      "execution_count": 5,
      "outputs": [
        {
          "output_type": "stream",
          "name": "stdout",
          "text": [
            "<function hello at 0x7f64f08c08c0>\n",
            "<function hello at 0x7f64f08c08c0>\n"
          ]
        }
      ]
    },
    {
      "cell_type": "code",
      "source": [
        "def druga(func):\n",
        "  print(\"To działa\")\n",
        "  func()"
      ],
      "metadata": {
        "id": "Ps1DKCnmfAQ3"
      },
      "execution_count": 6,
      "outputs": []
    },
    {
      "cell_type": "code",
      "source": [
        "obj = druga(hello)\n",
        "\n",
        "obj()"
      ],
      "metadata": {
        "colab": {
          "base_uri": "https://localhost:8080/",
          "height": 235
        },
        "id": "uQeD6LQkfLh-",
        "outputId": "6dc2edf0-1fef-4480-8825-7b685d3c74b1"
      },
      "execution_count": 7,
      "outputs": [
        {
          "output_type": "stream",
          "name": "stdout",
          "text": [
            "To działa\n",
            "Witaj świecie !!!\n"
          ]
        },
        {
          "output_type": "error",
          "ename": "TypeError",
          "evalue": "ignored",
          "traceback": [
            "\u001b[0;31m---------------------------------------------------------------------------\u001b[0m",
            "\u001b[0;31mTypeError\u001b[0m                                 Traceback (most recent call last)",
            "\u001b[0;32m<ipython-input-7-178f86ac28c4>\u001b[0m in \u001b[0;36m<module>\u001b[0;34m()\u001b[0m\n\u001b[1;32m      1\u001b[0m \u001b[0mobj\u001b[0m \u001b[0;34m=\u001b[0m \u001b[0mdruga\u001b[0m\u001b[0;34m(\u001b[0m\u001b[0mhello\u001b[0m\u001b[0;34m)\u001b[0m\u001b[0;34m\u001b[0m\u001b[0;34m\u001b[0m\u001b[0m\n\u001b[1;32m      2\u001b[0m \u001b[0;34m\u001b[0m\u001b[0m\n\u001b[0;32m----> 3\u001b[0;31m \u001b[0mobj\u001b[0m\u001b[0;34m(\u001b[0m\u001b[0;34m)\u001b[0m\u001b[0;34m\u001b[0m\u001b[0;34m\u001b[0m\u001b[0m\n\u001b[0m",
            "\u001b[0;31mTypeError\u001b[0m: 'NoneType' object is not callable"
          ]
        }
      ]
    },
    {
      "cell_type": "code",
      "source": [
        "def hello(func):\n",
        "  def inner():\n",
        "    print(\"Wywołanie funkcji wewnętrznej\")\n",
        "    func()\n",
        "    print(\"Zakończenie funkcji wewnętrznej\")\n",
        "  return inner\n",
        "\n",
        "  "
      ],
      "metadata": {
        "id": "z9_fFgXnfhWl"
      },
      "execution_count": 8,
      "outputs": []
    },
    {
      "cell_type": "code",
      "source": [
        "def jakas():\n",
        "  print(\"Jakiś komunikat wypisany na ekranie\")"
      ],
      "metadata": {
        "id": "5KrOabkwfxvY"
      },
      "execution_count": 9,
      "outputs": []
    },
    {
      "cell_type": "code",
      "source": [
        "obj = hello(hello(jakas))\n",
        "\n",
        "obj()"
      ],
      "metadata": {
        "colab": {
          "base_uri": "https://localhost:8080/"
        },
        "id": "pbprdaqGf4qW",
        "outputId": "fc4da56a-4ad0-42b4-8bee-b13e199a78a9"
      },
      "execution_count": 12,
      "outputs": [
        {
          "output_type": "stream",
          "name": "stdout",
          "text": [
            "Wywołanie funkcji wewnętrznej\n",
            "Wywołanie funkcji wewnętrznej\n",
            "Jakiś komunikat wypisany na ekranie\n",
            "Zakończenie funkcji wewnętrznej\n",
            "Zakończenie funkcji wewnętrznej\n"
          ]
        }
      ]
    },
    {
      "cell_type": "code",
      "source": [
        "@hello\n",
        "@hello\n",
        "def druga():\n",
        "  print(\"Wypisz drugi komunikat\")"
      ],
      "metadata": {
        "id": "zVoBpgn9hgzs"
      },
      "execution_count": 15,
      "outputs": []
    },
    {
      "cell_type": "code",
      "source": [
        "druga()"
      ],
      "metadata": {
        "colab": {
          "base_uri": "https://localhost:8080/"
        },
        "id": "IP0wIikthpti",
        "outputId": "e618b27d-3e0b-42ee-8a09-013de7a4ab4f"
      },
      "execution_count": 16,
      "outputs": [
        {
          "output_type": "stream",
          "name": "stdout",
          "text": [
            "Wywołanie funkcji wewnętrznej\n",
            "Wywołanie funkcji wewnętrznej\n",
            "Wypisz drugi komunikat\n",
            "Zakończenie funkcji wewnętrznej\n",
            "Zakończenie funkcji wewnętrznej\n"
          ]
        }
      ]
    },
    {
      "cell_type": "code",
      "source": [
        "def bold(func):\n",
        "  def inner():\n",
        "    return f\"<b>{func()}</b>\"\n",
        "  return inner\n",
        "\n",
        "def italic(func):\n",
        "  def inner():\n",
        "    return f\"<i>{func()}</i>\"\n",
        "  return inner\n",
        "\n",
        "def underline(func):\n",
        "  def inner():\n",
        "    return f\"<u>{func()}</u>\"\n",
        "  return inner"
      ],
      "metadata": {
        "id": "uV_qgih3kIng"
      },
      "execution_count": 23,
      "outputs": []
    },
    {
      "cell_type": "code",
      "source": [
        "@bold\n",
        "@italic\n",
        "@underline\n",
        "def jakas():\n",
        "  return \"Napis\""
      ],
      "metadata": {
        "id": "-oCLSLICkVL-"
      },
      "execution_count": 28,
      "outputs": []
    },
    {
      "cell_type": "code",
      "source": [
        "print(jakas())"
      ],
      "metadata": {
        "colab": {
          "base_uri": "https://localhost:8080/"
        },
        "id": "OjuJz_YlkayP",
        "outputId": "3183474e-7efb-4489-e68f-e5ffc70a8ec0"
      },
      "execution_count": 29,
      "outputs": [
        {
          "output_type": "stream",
          "name": "stdout",
          "text": [
            "<b><i><u>Napis</u></i></b>\n"
          ]
        }
      ]
    },
    {
      "cell_type": "code",
      "source": [
        "def jakas():\n",
        "  return \"Napis\"\n",
        "\n",
        "print(jakas.__name__)"
      ],
      "metadata": {
        "colab": {
          "base_uri": "https://localhost:8080/"
        },
        "id": "vuPcmfAVl_i9",
        "outputId": "c7d82d0f-bf8a-4d76-83b0-7c8bba190140"
      },
      "execution_count": 32,
      "outputs": [
        {
          "output_type": "stream",
          "name": "stdout",
          "text": [
            "jakas\n"
          ]
        }
      ]
    },
    {
      "cell_type": "code",
      "source": [
        "def tictoc(func):\n",
        "  def measure():\n",
        "    t = time()\n",
        "    func()\n",
        "    print(f\"Funkcja {func.__name__}, trwała {time() - t}\")\n",
        "  return measure"
      ],
      "metadata": {
        "id": "QdVSecSqleaX"
      },
      "execution_count": 41,
      "outputs": []
    },
    {
      "cell_type": "code",
      "source": [
        "@tictoc\n",
        "def a():\n",
        "  sleep(1)\n",
        "\n",
        "@tictoc\n",
        "def b():\n",
        "  sleep(2)"
      ],
      "metadata": {
        "id": "rlz8i4xMmdvO"
      },
      "execution_count": 44,
      "outputs": []
    },
    {
      "cell_type": "code",
      "source": [
        "a()\n",
        "b()"
      ],
      "metadata": {
        "colab": {
          "base_uri": "https://localhost:8080/"
        },
        "id": "2AJB3NFPmjgp",
        "outputId": "3aaa890d-3cbf-4303-fd56-6307bcbf2ec2"
      },
      "execution_count": 45,
      "outputs": [
        {
          "output_type": "stream",
          "name": "stdout",
          "text": [
            "Funkcja a, trwała 1.0010571479797363\n",
            "Funkcja b, trwała 2.0020697116851807\n"
          ]
        }
      ]
    },
    {
      "cell_type": "code",
      "source": [
        "@tictoc\n",
        "def f(sleep_time = 1):\n",
        "  sleep(sleep_time)"
      ],
      "metadata": {
        "id": "3HWRZEa-m87F"
      },
      "execution_count": 47,
      "outputs": []
    },
    {
      "cell_type": "code",
      "source": [
        "f(2)"
      ],
      "metadata": {
        "colab": {
          "base_uri": "https://localhost:8080/",
          "height": 166
        },
        "id": "2HcG3APgnFMn",
        "outputId": "02f3a6a1-41e1-4ad4-b004-c9703e311dd7"
      },
      "execution_count": 49,
      "outputs": [
        {
          "output_type": "error",
          "ename": "TypeError",
          "evalue": "ignored",
          "traceback": [
            "\u001b[0;31m---------------------------------------------------------------------------\u001b[0m",
            "\u001b[0;31mTypeError\u001b[0m                                 Traceback (most recent call last)",
            "\u001b[0;32m<ipython-input-49-c510dc86724b>\u001b[0m in \u001b[0;36m<module>\u001b[0;34m()\u001b[0m\n\u001b[0;32m----> 1\u001b[0;31m \u001b[0mf\u001b[0m\u001b[0;34m(\u001b[0m\u001b[0;36m2\u001b[0m\u001b[0;34m)\u001b[0m\u001b[0;34m\u001b[0m\u001b[0;34m\u001b[0m\u001b[0m\n\u001b[0m",
            "\u001b[0;31mTypeError\u001b[0m: measure() takes 0 positional arguments but 1 was given"
          ]
        }
      ]
    },
    {
      "cell_type": "code",
      "source": [
        "def tictoc(func):\n",
        "  def measure(param=None):\n",
        "    t = time()\n",
        "    if param == None:\n",
        "      func()\n",
        "    else:\n",
        "      func(param)\n",
        "    print(f\"Funkcja {func.__name__}, trwała {time() - t}\")\n",
        "  return measure"
      ],
      "metadata": {
        "id": "WMYDgWMJnSwQ"
      },
      "execution_count": 54,
      "outputs": []
    },
    {
      "cell_type": "code",
      "source": [
        "@tictoc\n",
        "def f(sleep_time = 1):\n",
        "  sleep(sleep_time)"
      ],
      "metadata": {
        "id": "16mOVnoynYyD"
      },
      "execution_count": 55,
      "outputs": []
    },
    {
      "cell_type": "code",
      "source": [
        "f(2)"
      ],
      "metadata": {
        "colab": {
          "base_uri": "https://localhost:8080/"
        },
        "id": "p9I5L1GNnabl",
        "outputId": "b674be8e-fbcf-484d-9802-8fc04c13a3e9"
      },
      "execution_count": 56,
      "outputs": [
        {
          "output_type": "stream",
          "name": "stdout",
          "text": [
            "Funkcja f, trwała 2.0020627975463867\n"
          ]
        }
      ]
    },
    {
      "cell_type": "code",
      "source": [
        "f()"
      ],
      "metadata": {
        "colab": {
          "base_uri": "https://localhost:8080/"
        },
        "id": "DUjvtiOtndjq",
        "outputId": "f81c477a-cb1d-45d0-a6a8-f91a34c85b9e"
      },
      "execution_count": 57,
      "outputs": [
        {
          "output_type": "stream",
          "name": "stdout",
          "text": [
            "Funkcja f, trwała 1.001051664352417\n"
          ]
        }
      ]
    },
    {
      "cell_type": "code",
      "source": [
        "def dodaj(a, b, c):\n",
        "  suma = a + b + c\n",
        "  print(suma)"
      ],
      "metadata": {
        "id": "Qts3_sL-oNQA"
      },
      "execution_count": 60,
      "outputs": []
    },
    {
      "cell_type": "code",
      "source": [
        "def dodaj(*liczby):\n",
        "  suma = 0\n",
        "  for liczba in liczby:\n",
        "    suma = suma + liczba\n",
        "\n",
        "  print(suma)"
      ],
      "metadata": {
        "id": "juRRGMsbn8yT"
      },
      "execution_count": 66,
      "outputs": []
    },
    {
      "cell_type": "code",
      "source": [
        "dodaj(1, 2, 3, 4)"
      ],
      "metadata": {
        "colab": {
          "base_uri": "https://localhost:8080/"
        },
        "id": "9cg-23SloCHb",
        "outputId": "dfe1ab43-39eb-4d7f-9239-1a4f9070ccec"
      },
      "execution_count": 67,
      "outputs": [
        {
          "output_type": "stream",
          "name": "stdout",
          "text": [
            "10\n"
          ]
        }
      ]
    },
    {
      "cell_type": "code",
      "source": [
        "def wypisz(**zmienne):\n",
        "  for k, v in zmienne.items():\n",
        "    print(f\"{k}: {v}\")"
      ],
      "metadata": {
        "id": "j-PJvOUNozlc"
      },
      "execution_count": 70,
      "outputs": []
    },
    {
      "cell_type": "code",
      "source": [
        "wypisz(imie=\"Radosław\", nazwisko=\"Roszczyk\", email=\"radoslaw.roszczyk@pw.edu.pl\")"
      ],
      "metadata": {
        "colab": {
          "base_uri": "https://localhost:8080/"
        },
        "id": "xIxYyLXgo3uo",
        "outputId": "d8718e88-110e-42dc-9fa1-4ac54feacb6f"
      },
      "execution_count": 71,
      "outputs": [
        {
          "output_type": "stream",
          "name": "stdout",
          "text": [
            "imie: Radosław\n",
            "nazwisko: Roszczyk\n",
            "email: radoslaw.roszczyk@pw.edu.pl\n"
          ]
        }
      ]
    },
    {
      "cell_type": "code",
      "source": [
        "def measure(func, *params):\n",
        "  t = time()\n",
        "  func(*params)\n",
        "  print(f\"Funkcja {func.__name__}, trwała {time() - t}\")"
      ],
      "metadata": {
        "id": "geo165SBpWMj"
      },
      "execution_count": 77,
      "outputs": []
    },
    {
      "cell_type": "code",
      "source": [
        "measure(f, 2)\n",
        "measure(f)"
      ],
      "metadata": {
        "colab": {
          "base_uri": "https://localhost:8080/"
        },
        "id": "GrwKtjkepeO1",
        "outputId": "dfea328f-44db-43cb-c54b-7e692147b12f"
      },
      "execution_count": 79,
      "outputs": [
        {
          "output_type": "stream",
          "name": "stdout",
          "text": [
            "Funkcja f, trwała 2.002100944519043\n",
            "Funkcja measure, trwała 2.002781391143799\n",
            "Funkcja f, trwała 1.0010511875152588\n",
            "Funkcja measure, trwała 1.001713752746582\n"
          ]
        }
      ]
    },
    {
      "cell_type": "code",
      "source": [
        "def tictoc(func):\n",
        "  def measure(*params):\n",
        "    t = time()\n",
        "    func(*params)\n",
        "    print(f\"Funkcja {func.__name__}, trwała {time() - t}\")\n",
        "  return measure"
      ],
      "metadata": {
        "id": "AQePIVYop5l-"
      },
      "execution_count": 80,
      "outputs": []
    },
    {
      "cell_type": "code",
      "source": [
        "@tictoc\n",
        "def f(sleep_time = 1):\n",
        "  sleep(sleep_time)"
      ],
      "metadata": {
        "id": "YuWO2YSRqE3h"
      },
      "execution_count": 81,
      "outputs": []
    },
    {
      "cell_type": "code",
      "source": [
        "f()\n",
        "f(2)"
      ],
      "metadata": {
        "colab": {
          "base_uri": "https://localhost:8080/"
        },
        "id": "5eMKdmgHqGaM",
        "outputId": "0a901a84-d29c-452d-e1fe-abec4eceefa9"
      },
      "execution_count": 82,
      "outputs": [
        {
          "output_type": "stream",
          "name": "stdout",
          "text": [
            "Funkcja f, trwała 1.0010523796081543\n",
            "Funkcja f, trwała 2.0021002292633057\n"
          ]
        }
      ]
    },
    {
      "cell_type": "code",
      "source": [
        "@tictoc\n",
        "def dodaj(a, b, c):\n",
        "  sleep(0.5)\n",
        "  suma = a + b + c\n",
        "  print(suma)"
      ],
      "metadata": {
        "id": "TXYcZguMqL4k"
      },
      "execution_count": 83,
      "outputs": []
    },
    {
      "cell_type": "code",
      "source": [
        "dodaj(1, 2, 3)"
      ],
      "metadata": {
        "colab": {
          "base_uri": "https://localhost:8080/"
        },
        "id": "SX4C65H3qQGY",
        "outputId": "02fd08ec-8e42-423e-e7da-72fe52bd7e08"
      },
      "execution_count": 84,
      "outputs": [
        {
          "output_type": "stream",
          "name": "stdout",
          "text": [
            "6\n",
            "Funkcja dodaj, trwała 0.5012819766998291\n"
          ]
        }
      ]
    },
    {
      "cell_type": "code",
      "source": [
        "from functools import wraps\n",
        "\n",
        "def tictoc(func):\n",
        "  @wraps(func)\n",
        "  def measure(*params):\n",
        "    '''To jest funkcja wewnętrzna'''\n",
        "    t = time()\n",
        "    func(*params)\n",
        "    print(f\"Funkcja {func.__name__}, trwała {time() - t}\")\n",
        "  return measure\n",
        "\n",
        "@tictoc\n",
        "def kot():\n",
        "  '''Jestem kotem i lubię spać'''\n",
        "  sleep(1)"
      ],
      "metadata": {
        "id": "wY__85Itqa94"
      },
      "execution_count": 95,
      "outputs": []
    },
    {
      "cell_type": "code",
      "source": [
        "print(f\"{kot.__name__}, {kot.__doc__}\")"
      ],
      "metadata": {
        "colab": {
          "base_uri": "https://localhost:8080/"
        },
        "id": "W-i8_Z5MqjE5",
        "outputId": "086bf2b1-dab0-4c37-bc3e-a7ba7a659f9c"
      },
      "execution_count": 96,
      "outputs": [
        {
          "output_type": "stream",
          "name": "stdout",
          "text": [
            "kot, Jestem kotem i lubię spać\n"
          ]
        }
      ]
    },
    {
      "cell_type": "code",
      "source": [
        "def IgnoreLiteraError(func):\n",
        "  def inner(p):\n",
        "    try:\n",
        "      return func(p)\n",
        "    except ValueError:\n",
        "      pass\n",
        "  return inner\n",
        "\n",
        "def IgnoreDivideByZeroError(func):\n",
        "  def inner(p):\n",
        "    try:\n",
        "       return func(p)\n",
        "    except ZeroDivisionError:\n",
        "      pass\n",
        "  return inner  "
      ],
      "metadata": {
        "id": "_C2Nb__csRbI"
      },
      "execution_count": 107,
      "outputs": []
    },
    {
      "cell_type": "code",
      "source": [
        "lista = ['a', 0, 2]\n",
        "\n",
        "@IgnoreLiteraError\n",
        "@IgnoreDivideByZeroError\n",
        "def dzielenie(param):\n",
        "  return 1 / int(param)\n",
        "\n",
        "for elem in lista:\n",
        "  print(dzielenie(elem))"
      ],
      "metadata": {
        "colab": {
          "base_uri": "https://localhost:8080/"
        },
        "id": "kwxfcPVurkYo",
        "outputId": "e2435f97-aee2-4293-da24-7b2d29ac40e0"
      },
      "execution_count": 108,
      "outputs": [
        {
          "output_type": "stream",
          "name": "stdout",
          "text": [
            "None\n",
            "None\n",
            "0.5\n"
          ]
        }
      ]
    }
  ]
}