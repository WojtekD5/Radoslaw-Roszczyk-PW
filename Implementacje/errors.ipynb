{
  "nbformat": 4,
  "nbformat_minor": 0,
  "metadata": {
    "colab": {
      "name": "errors.ipynb",
      "provenance": [],
      "collapsed_sections": [],
      "include_colab_link": true
    },
    "kernelspec": {
      "name": "python3",
      "display_name": "Python 3"
    }
  },
  "cells": [
    {
      "cell_type": "markdown",
      "metadata": {
        "id": "view-in-github",
        "colab_type": "text"
      },
      "source": [
        "<a href=\"https://colab.research.google.com/github/rroszczyk/Python/blob/master/Implementacje/errors.ipynb\" target=\"_parent\"><img src=\"https://colab.research.google.com/assets/colab-badge.svg\" alt=\"Open In Colab\"/></a>"
      ]
    },
    {
      "cell_type": "code",
      "metadata": {
        "id": "UrzCviAKKVVf",
        "colab_type": "code",
        "colab": {}
      },
      "source": [
        "# przygotowanie katalogu roboczego do pracy :)\n",
        "import requests\n",
        "\n",
        "def pobierzPlik(url, nazwaPliku):\n",
        "    req = requests.get(url, stream=True)\n",
        "    with open(nazwaPliku, 'wb') as uchwytPliku:\n",
        "        for chunk in req.iter_content():\n",
        "            uchwytPliku.write(chunk)\n",
        "\n",
        "nazwyPlikow = ['pan_tadeusz.txt']\n",
        "for nazwa in nazwyPlikow:\n",
        "  pobierzPlik(\"https://github.com/rroszczyk/Python/raw/master/Pliki/\"+nazwa, nazwa)"
      ],
      "execution_count": 0,
      "outputs": []
    },
    {
      "cell_type": "code",
      "metadata": {
        "id": "BgOTCdqksO19",
        "colab_type": "code",
        "colab": {}
      },
      "source": [
        "import numpy as np\n",
        "\n",
        "def markov_text_gen(file,n):\n",
        "  #wczytanie do programu tekstu \n",
        "  tadeusz = open(file, encoding='utf8').read()\n",
        "\n",
        "  #podzielenie tekstu na poszczególne \"słowa\"\n",
        "  slowa = tadeusz.split()\n",
        "\n",
        "  # połączenie słów w pary\n",
        "  pairs = []\n",
        "  for i in range(len(slowa)-1):\n",
        "    pairs.append([slowa[i],slowa[i+1]])\n",
        "\n",
        "  # połaczenie słów w trójki\n",
        "  trios = []\n",
        "  for i in range(len(slowa)-2):\n",
        "    trios.append([slowa[i],slowa[i+1],slowa[i+2]])  \n",
        "\n",
        "  #stworzenie słownika z prefiksami i suffiksami\n",
        "  word_dict = {}\n",
        "\n",
        "  for word_1, word_2 in pairs:\n",
        "    if word_1 in word_dict.keys():\n",
        "      word_dict[word_1].append(word_2)\n",
        "    else:\n",
        "      word_dict[word_1] = [word_2]\n",
        "\n",
        "  for trio in trios:\n",
        "    prefix = trio[0] + ' ' + trio[1]\n",
        "    suffix = trio[2]\n",
        "    if prefix in word_dict.keys():\n",
        "      word_dict[prefix].append(suffix)\n",
        "    else:\n",
        "      word_dict[prefix] = [suffix]\n",
        "\n",
        "\n",
        "  #generacja tekstu\n",
        "\n",
        "  first_word = np.random.choice(slowa)\n",
        "\n",
        "  while first_word.islower():\n",
        "    first_word = np.random.choice(slowa)\n",
        "\n",
        "  second_word = np.random.choice(word_dict[first_word])\n",
        "\n",
        "  chain = [first_word, second_word]\n",
        "\n",
        "  n_words = n\n",
        "\n",
        "  for i in range(n_words):\n",
        "    chain.append(np.random.choice(word_dict[chain[-2]+' '+chain[-1]]))\n",
        "\n",
        "  return ' '.join(chain)\n",
        "  "
      ],
      "execution_count": 0,
      "outputs": []
    },
    {
      "cell_type": "code",
      "metadata": {
        "id": "YC-WKwwmtqsn",
        "colab_type": "code",
        "outputId": "871254e6-6c96-4a7b-fc37-57d22546aa95",
        "colab": {
          "base_uri": "https://localhost:8080/",
          "height": 54
        }
      },
      "source": [
        "markov_text_gen('pan_tadeusz.txt',200)"
      ],
      "execution_count": 15,
      "outputs": [
        {
          "output_type": "execute_result",
          "data": {
            "text/plain": [
              "'Wołk z Łogomowicz. Pamiętacie, jak Wołka wzięliśmy w posiadłość. Wszakże kto gości prosi w zamek karabina; Trzasł zamek: lecz zalany krwią proch już nie prosił: na cóż byłem mu potrzebnym: miałem zachowanie U szlachty i całej Rzeczypospolitej, A na miejscu, rękę grzecznie wznosi I żeby mimo przeszli, pokornie ich prosi; Czasem zamyśla zręcznie na bok wysuwając końce, Wstrząsają kulki krągłe, mosiężne, brzęczące. Za baranem szły woły, trzoda owiec, kozy, Za bydłem cztery ciężko pakowane wozy. Wszyscy odgadli, że to grzech. Nieraz u niego gromada Chłopska, ja sam was ustawię: Waść po jednej stronie Stanie na końcu pyska, a Waść na ogonie«. »Zgoda!« — wrzaśli; czas? — jutro; miejsce? — karczma Usza. Rozjechali się. Ja zaś dołożę, lepszy miód od Scyzoryka». To mówiąc, drzwi na kształt tulipanów wodnych; Tysiące oczu jak gwiazd błyskają ku Zosi. Ona w środku Kropidło grzmi, już Brzytwa błyska, Siecze Rózga, od dworu wpada szlachty tłuszcza, A Hrabia od bram jazdę na rozpierzchłych puszcza. Już tylko ośmiu jegrów z sierżantem na czele dżokejów szeregu, A zachwycony wdziękiem nocy tak pogodnej I harmonią cudną orkiestry podwodnej, Owych chorów, co brzmiały jak arfy eolskie, (Żadne żaby nie grają tak pięknie jak polskie), Wstrzymał konia i o co? Muszą chcąc nie chcąc'"
            ]
          },
          "metadata": {
            "tags": []
          },
          "execution_count": 15
        }
      ]
    },
    {
      "cell_type": "code",
      "metadata": {
        "id": "g7UAI74Nv1T6",
        "colab_type": "code",
        "colab": {}
      },
      "source": [
        "import numpy as np\n",
        "\n",
        "def markov_text_gen_better(file,n):\n",
        "  #wczytanie do programu tekstu \n",
        "  try:\n",
        "    tadeusz = open(file, encoding='utf8').read()\n",
        "  except FileNotFoundError as e:\n",
        "    print('Nie ma takiego pliku!')\n",
        "    return\n",
        "\n",
        "  #podzielenie tekstu na poszczególne \"słowa\"\n",
        "  slowa = tadeusz.split()\n",
        "\n",
        "  # połączenie słów w pary\n",
        "  pairs = []\n",
        "  for i in range(len(slowa)-1):\n",
        "    pairs.append([slowa[i],slowa[i+1]])\n",
        "\n",
        "  # połaczenie słów w trójki\n",
        "  trios = []\n",
        "  for i in range(len(slowa)-2):\n",
        "    trios.append([slowa[i],slowa[i+1],slowa[i+2]])  \n",
        "\n",
        "  #stworzenie słownika z prefiksami i suffiksami\n",
        "  word_dict = {}\n",
        "\n",
        "  for word_1, word_2 in pairs:\n",
        "    if word_1 in word_dict.keys():\n",
        "      word_dict[word_1].append(word_2)\n",
        "    else:\n",
        "      word_dict[word_1] = [word_2]\n",
        "\n",
        "  for trio in trios:\n",
        "    prefix = trio[0] + ' ' + trio[1]\n",
        "    suffix = trio[2]\n",
        "    if prefix in word_dict.keys():\n",
        "      word_dict[prefix].append(suffix)\n",
        "    else:\n",
        "      word_dict[prefix] = [suffix]\n",
        "\n",
        "\n",
        "  #generacja tekstu\n",
        "\n",
        "  first_word = np.random.choice(slowa)\n",
        "\n",
        "  while first_word.islower():\n",
        "    first_word = np.random.choice(slowa)\n",
        "\n",
        "  second_word = np.random.choice(word_dict[first_word])\n",
        "\n",
        "  chain = [first_word, second_word]\n",
        "\n",
        "  n_words = n\n",
        "  try:\n",
        "    for i in range(n_words):\n",
        "      chain.append(np.random.choice(word_dict[chain[-2]+' '+chain[-1]]))\n",
        "  except TypeError as e:\n",
        "    print('\\n\\nERROR:' + str(e)+'\\n\\n')\n",
        "    print('Jako drugi argument musisz podać liczbę! Wyświetlam tylko 10 słów!')\n",
        "    for i in range(10):\n",
        "      chain.append(np.random.choice(word_dict[chain[-2]+' '+chain[-1]]))    \n",
        "\n",
        "  return ' '.join(chain)\n",
        "  "
      ],
      "execution_count": 0,
      "outputs": []
    },
    {
      "cell_type": "code",
      "metadata": {
        "id": "juTQG0UvwLNM",
        "colab_type": "code",
        "outputId": "79688aee-bbba-44b1-81bd-6635a681bd15",
        "colab": {
          "base_uri": "https://localhost:8080/",
          "height": 54
        }
      },
      "source": [
        "markov_text_gen_better('pan_tadeusz.txt',200)"
      ],
      "execution_count": 22,
      "outputs": [
        {
          "output_type": "execute_result",
          "data": {
            "text/plain": [
              "'Wchodzi, cofnął się, toczył zdumione źrenice Po ścianach: w tej izbie, nie innej. Nieboszczyk pan mój, miał takie przysłowie… Czyż to prawda, że Francuz stoi nad rzeką Łososną, A wojna jeśli będzie, to chyba aż wiosną. Nu, mówię tak: jeżeli państwo chcą gwałt zrobić Sędziemu, to bardzo dobre polowanie wróży; Nareszcie Podkomorzy dał rozkaz podróży. Ruszyli szczwacze z wolna, jeden tuż za drugim; Ale za bramą rzędem rozbiegli się długim. W środku kwiatów, jak pełnia miesiąca; Trzykroć weszła i trzykroć znikła w głów obłoku. Klucznik idąc kłaniał się, aż ogień wszystkie z niej z rzadka zarosły, wysłany murawą. Po jej kobiercach, na wskroś jakby oczu dwoje. Samotny Hrabia długo jeszcze stał w środku się postawił, Wąsy siwe pokręcił, kapoty poprawił, Iskrzyły mu się wzięła mina i wesołość taka. Sędzia wnet kucharzowi powtórzył rozkazy: Wniesiono wazę, cukier, butelki i zrazy. Płut i Ryków tak czynnie zaczęli się zwijać, Tak łakomie połykać i gęsto zapijać, Że w sądy o mym piesku wielki łowczy wdał się: I nawet często zbiegli od rekruta chłopi, Gdy ich nie zjada, I dziwna, żaden owad na nich biegła ćma Moskali. Cesarz patrzył i milczał. Co Francuzi strzelą, To Moskale pułkami jak trawa się ścielą: Pułk za pułkiem cwałował i'"
            ]
          },
          "metadata": {
            "tags": []
          },
          "execution_count": 22
        }
      ]
    }
  ]
}