{
  "nbformat": 4,
  "nbformat_minor": 0,
  "metadata": {
    "colab": {
      "name": "errors.ipynb",
      "provenance": [],
      "collapsed_sections": [],
      "include_colab_link": true
    },
    "kernelspec": {
      "name": "python3",
      "display_name": "Python 3"
    }
  },
  "cells": [
    {
      "cell_type": "markdown",
      "metadata": {
        "id": "view-in-github",
        "colab_type": "text"
      },
      "source": [
        "<a href=\"https://colab.research.google.com/github/rroszczyk/Python/blob/master/Implementacje/errors.ipynb\" target=\"_parent\"><img src=\"https://colab.research.google.com/assets/colab-badge.svg\" alt=\"Open In Colab\"/></a>"
      ]
    },
    {
      "cell_type": "code",
      "metadata": {
        "id": "UrzCviAKKVVf",
        "colab_type": "code",
        "colab": {}
      },
      "source": [
        "# przygotowanie katalogu roboczego do pracy :)\n",
        "import requests\n",
        "\n",
        "def pobierzPlik(url, nazwaPliku):\n",
        "    req = requests.get(url, stream=True)\n",
        "    with open(nazwaPliku, 'wb') as uchwytPliku:\n",
        "        for chunk in req.iter_content():\n",
        "            uchwytPliku.write(chunk)\n",
        "\n",
        "nazwyPlikow = ['pan_tadeusz.txt']\n",
        "for nazwa in nazwyPlikow:\n",
        "  pobierzPlik(\"https://github.com/rroszczyk/Python/raw/master/Pliki/\"+nazwa, nazwa)"
      ],
      "execution_count": 0,
      "outputs": []
    },
    {
      "cell_type": "code",
      "metadata": {
        "id": "BgOTCdqksO19",
        "colab_type": "code",
        "colab": {}
      },
      "source": [
        "import numpy as np\n",
        "\n",
        "def markov_text_gen(file,n):\n",
        "  #wczytanie do programu tekstu \n",
        "  tadeusz = open(file, encoding='utf8').read()\n",
        "\n",
        "  #podzielenie tekstu na poszczególne \"słowa\"\n",
        "  slowa = tadeusz.split()\n",
        "\n",
        "  # połączenie słów w pary\n",
        "  pairs = []\n",
        "  for i in range(len(slowa)-1):\n",
        "    pairs.append([slowa[i],slowa[i+1]])\n",
        "\n",
        "  # połaczenie słów w trójki\n",
        "  trios = []\n",
        "  for i in range(len(slowa)-2):\n",
        "    trios.append([slowa[i],slowa[i+1],slowa[i+2]])  \n",
        "\n",
        "  #stworzenie słownika z prefiksami i suffiksami\n",
        "  word_dict = {}\n",
        "\n",
        "  for word_1, word_2 in pairs:\n",
        "    if word_1 in word_dict.keys():\n",
        "      word_dict[word_1].append(word_2)\n",
        "    else:\n",
        "      word_dict[word_1] = [word_2]\n",
        "\n",
        "  for trio in trios:\n",
        "    prefix = trio[0] + ' ' + trio[1]\n",
        "    suffix = trio[2]\n",
        "    if prefix in word_dict.keys():\n",
        "      word_dict[prefix].append(suffix)\n",
        "    else:\n",
        "      word_dict[prefix] = [suffix]\n",
        "\n",
        "\n",
        "  #generacja tekstu\n",
        "\n",
        "  first_word = np.random.choice(slowa)\n",
        "\n",
        "  while first_word.islower():\n",
        "    first_word = np.random.choice(slowa)\n",
        "\n",
        "  second_word = np.random.choice(word_dict[first_word])\n",
        "\n",
        "  chain = [first_word, second_word]\n",
        "\n",
        "  n_words = n\n",
        "\n",
        "  for i in range(n_words):\n",
        "    chain.append(np.random.choice(word_dict[chain[-2]+' '+chain[-1]]))\n",
        "\n",
        "  return ' '.join(chain)\n",
        "  "
      ],
      "execution_count": 0,
      "outputs": []
    },
    {
      "cell_type": "code",
      "metadata": {
        "id": "YC-WKwwmtqsn",
        "colab_type": "code",
        "outputId": "f8085f67-e9f6-439a-d78b-fb17f6359f57",
        "colab": {
          "base_uri": "https://localhost:8080/",
          "height": 54
        }
      },
      "source": [
        "markov_text_gen('pan_tadeusz.txt',200)"
      ],
      "execution_count": 26,
      "outputs": [
        {
          "output_type": "execute_result",
          "data": {
            "text/plain": [
              "'Wiem, co winienem sławie i mojej rodzinie. Tak, muszę zerwać wszelkie z Soplicą układy, Choćby do pistoletów przyszło lub do szpady! Honor każe». Rzekł, ruszył uroczystym krokiem, A Gerwazy szedł z rak do rąk konewkę, Zmacał sztenflem naboju, podsypał panewkę, I spojrzał na nią nieostrożnie biegnie: Tak Tadeusz, opiły trucizną zazdrości, Zdawał się pogrążony w dumaniu głębokiem. Dopiero, gdy się modląc kiwa: Dach jak czapka, jak broda strzecha roztrzęsiona, Ściany dymne i brudne jak czarna opona, A z przyczyny Sędziego został głupcem takim. Mówiłem: po co psuć atrament? Konfederacji trzeba? o to cała sprzeczka? Jest Marszałek nasz Maciej, a laska Rózeczka». «Niech żyje Kurek na kościele!» Ciżba tłoczy się w ucho: «Jeśli chcesz Sędzio, żeby to uszło na sucho, Za każdą głowę tysiąc rubelków gotówką: Tysiąc rubelków Sędzio, to ostatnie słówko». Sędzia chciał targować się; lecz Major nie słuchał, Znowu biegał po izbie, dymem gęsto buchał, Podobny do zdarzenia dzisiejszej obławy. Klucznik mówił, że tylko znał jednego człeka, Co tak celnie jak Robak mógł strzelić z daleka; Ja zaś dołożę, lepszy miód od Scyzoryka». To mówiąc, zwrócił się do marszu! Pójdziem, czy pod Turka, Czy na Francuza; oj ten Bonapart figurka! Bez Suwarowa to on może nas wytuza. U nas dość głowę'"
            ]
          },
          "metadata": {
            "tags": []
          },
          "execution_count": 26
        }
      ]
    },
    {
      "cell_type": "code",
      "metadata": {
        "id": "g7UAI74Nv1T6",
        "colab_type": "code",
        "colab": {}
      },
      "source": [
        "import numpy as np\n",
        "\n",
        "def markov_text_gen_better(file,n):\n",
        "  #wczytanie do programu tekstu \n",
        "  try:\n",
        "    tadeusz = open(file, encoding='utf8').read()\n",
        "  except FileNotFoundError as e:\n",
        "    print('Nie ma takiego pliku!')\n",
        "    return\n",
        "\n",
        "  #podzielenie tekstu na poszczególne \"słowa\"\n",
        "  slowa = tadeusz.split()\n",
        "\n",
        "  # połączenie słów w pary\n",
        "  pairs = []\n",
        "  for i in range(len(slowa)-1):\n",
        "    pairs.append([slowa[i],slowa[i+1]])\n",
        "\n",
        "  # połaczenie słów w trójki\n",
        "  trios = []\n",
        "  for i in range(len(slowa)-2):\n",
        "    trios.append([slowa[i],slowa[i+1],slowa[i+2]])  \n",
        "\n",
        "  #stworzenie słownika z prefiksami i suffiksami\n",
        "  word_dict = {}\n",
        "\n",
        "  for word_1, word_2 in pairs:\n",
        "    if word_1 in word_dict.keys():\n",
        "      word_dict[word_1].append(word_2)\n",
        "    else:\n",
        "      word_dict[word_1] = [word_2]\n",
        "\n",
        "  for trio in trios:\n",
        "    prefix = trio[0] + ' ' + trio[1]\n",
        "    suffix = trio[2]\n",
        "    if prefix in word_dict.keys():\n",
        "      word_dict[prefix].append(suffix)\n",
        "    else:\n",
        "      word_dict[prefix] = [suffix]\n",
        "\n",
        "\n",
        "  #generacja tekstu\n",
        "\n",
        "  first_word = np.random.choice(slowa)\n",
        "\n",
        "  while first_word.islower():\n",
        "    first_word = np.random.choice(slowa)\n",
        "\n",
        "  second_word = np.random.choice(word_dict[first_word])\n",
        "\n",
        "  chain = [first_word, second_word]\n",
        "\n",
        "  n_words = n\n",
        "  try:\n",
        "    for i in range(n_words):\n",
        "      chain.append(np.random.choice(word_dict[chain[-2]+' '+chain[-1]]))\n",
        "  except TypeError as e:\n",
        "    print('\\n\\nERROR:' + str(e)+'\\n\\n')\n",
        "    print('Jako drugi argument musisz podać liczbę! Wyświetlam tylko 10 słów!')\n",
        "    for i in range(10):\n",
        "      chain.append(np.random.choice(word_dict[chain[-2]+' '+chain[-1]]))    \n",
        "\n",
        "  return ' '.join(chain)\n",
        "  "
      ],
      "execution_count": 0,
      "outputs": []
    },
    {
      "cell_type": "code",
      "metadata": {
        "id": "juTQG0UvwLNM",
        "colab_type": "code",
        "outputId": "c2360489-e5d9-47ff-c8a7-b22e8d37176f",
        "colab": {
          "base_uri": "https://localhost:8080/",
          "height": 54
        }
      },
      "source": [
        "markov_text_gen_better('pan_tadeusz.txt',200)"
      ],
      "execution_count": 27,
      "outputs": [
        {
          "output_type": "execute_result",
          "data": {
            "text/plain": [
              "'Jest bigos, bo się z rana z panem Asesorem, A pan Tadeusz wyzwał Hrabiego wieczorem. Pono spór ten ze skóry niedźwiedziej pochodził; I gdyby mnie Dobrodziej Sędzia nie przeszkodził, Ja bym na Francuzów Spuścił się w Hrabiego wpatrywał. Sztuka rzucania nożów, straszna w ręcznej bitwie, Już była zaniedbana podówczas na Litwie, Znajoma tylko starym; Klucznik jej próbował Nieraz w zwadach karczemnych, Wojski w niej coś kręcić zaczynał. Stały w dwóch kątach sieni, wsparte o filary, Dwa kurantowe, w szafach zamknięte zegary; Dziwaki stare, dawno ze słońcem w niezgodzie, Południe wskazywały często o zachodzie. Gerwazy nie będzie myślił o jej losie: Dość mnie nudzi ta cała nowina, To kto wie, w jakim żalu i rozpaczy Popełniłem… Było to za żółta księga?» pan Sędzia każe, U niego ze dniem kończą pracę gospodarze. «Pan świata wie, jak długo pracować potrzeba; Słońce, Jego robotnik, kiedy znijdzie z nieba, Czas i ziemianinowi ustępować z pola». Tak zwykł mawiać pan Sędzia, powinność znając gospodarza, Stał w progu sieni: «Tu — rzekł — Sędzia mówił już o tej wolności! Lecz nie służył nikomu: tylko się ukłonił I cofnął się. Dziewica krzyknęła boleśnie, Niewyraźnie, jak dziecko przestraszone we śnie; Podróżny zląkł się, spojrzał; lecz już jej nie uprosi — Przerwał'"
            ]
          },
          "metadata": {
            "tags": []
          },
          "execution_count": 27
        }
      ]
    }
  ]
}