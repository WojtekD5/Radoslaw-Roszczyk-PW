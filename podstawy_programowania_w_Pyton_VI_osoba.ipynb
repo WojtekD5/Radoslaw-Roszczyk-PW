{
  "nbformat": 4,
  "nbformat_minor": 0,
  "metadata": {
    "colab": {
      "name": "Untitled8.ipynb",
      "provenance": []
    },
    "kernelspec": {
      "name": "python3",
      "display_name": "Python 3"
    },
    "language_info": {
      "name": "python"
    }
  },
  "cells": [
    {
      "cell_type": "code",
      "metadata": {
        "id": "5Wrlwt5JW8yx"
      },
      "source": [
        "class Dane_Osobowe(object):\n",
        "    \"Rekord opisujący osobę\"\n",
        "\n",
        "    __imie = None\n",
        "\n",
        "    def __init__(self):\n",
        "        self.identyfikator = 1\n",
        "        self.__imie = None\n",
        "        self.nazwisko = None\n",
        "        self.wiek = None\n",
        "        self.panstwo = None\n",
        "        self.miasto = None\n",
        "        self.kod_pocztowy = None\n",
        "        self.ulica = None\n",
        "        self.numer = None\n",
        "        self.numer_domu = None\n",
        "        self.telefon = None\n",
        "        self.kierunkowy = None\n",
        "        self.email = None\n",
        "\n",
        "    @property    \n",
        "    def imie(self):\n",
        "        return self.__imie;\n",
        "  \n",
        "    @imie.setter\n",
        "    def imie(self, noweImie):\n",
        "        if noweImie == None:\n",
        "          raise Exception(\"osoba nie może zostać pozbawiona imienia\")\n",
        "        self.__imie = noweImie;\n",
        "\n",
        "    def zmiana_imienia(self):\n",
        "        self.__imie = input('Podaj nowe imie\\n>')\n",
        "\n",
        "    def wczytaj_dane_osobowe(self):\n",
        "        self.__imie = input('Podaj swoje imie\\n>')\n",
        "        self.nazwisko = input('Podaj swoje nazwisko\\n>')\n",
        "        self.wiek = int(input('Podaj swój obecny wiek\\n>'))\n",
        "        self.panstwo = input('Podaj państwo zamieszkania\\n>')\n",
        "        self.miasto = input('Podaj miasto zamieszkania\\n>')\n",
        "        self.ulica = input('Podaj ulicę zamieszkania\\n')\n",
        "        self.numer = input('Podaj numer posesji\\n>')\n",
        "        numer_domu = input('Podaj numer mieszkania lub zostaw puste jeśli n/d\\n>')\n",
        "        self.numer_domu = None if numer_domu == '' else numer_domu\n",
        "        self.kod_pocztowy = input('Podaj kod pocztowy w formacie XX-XXX\\n>')\n",
        "        self.kierunkowy = input('Podaj krajowy numer kierunkowy (pomiń +, np. 48 dla Polski)\\n>')\n",
        "        self.telefon = input('Podaj 9 cyfrowy numer telefonu\\n>')\n",
        "        self.email = input('Podaj swoj adres email\\n>')\n",
        "\n",
        "    def wypisz_podsumowanie(self):\n",
        "        print(\"---\")\n",
        "        print(f'Imię:  {self.__imie},     nazwisko: {self.nazwisko},     lat {self.wiek}')\n",
        "        nd = '' if self.numer_domu is None else 'm. ' + self.numer_domu \n",
        "        print(f'Adres: ul. {self.ulica} {self.numer} {nd}')\n",
        "        print(f'       {self.miasto}, {self.kod_pocztowy}, {self.panstwo}')\n",
        "        print(f'Tel:   {self.kierunkowy}-{self.telefon}')\n",
        "        print(f'Email: {self.email}')        \n",
        "\n",
        "    def kopiuj(self, osoba):\n",
        "        self.identyfikator = self.identyfikator + 1\n",
        "        self.__imie = osoba.imie\n",
        "        self.nazwisko = osoba.nazwisko\n",
        "        self.wiek = osoba.wiek\n",
        "        self.panstwo = osoba.panstwo\n",
        "        self.miasto = osoba.miasto\n",
        "        self.ulica = osoba.ulica\n",
        "        self.numer = osoba.numer\n",
        "        self.numer_domu = osoba.numer_domu\n",
        "        self.kod_pocztowy = osoba.kod_pocztowy\n",
        "        self.kierunkowy = osoba.kierunkowy\n",
        "        self.telefon = osoba.telefon\n",
        "        self.email = osoba.email\n",
        "\n"
      ],
      "execution_count": 10,
      "outputs": []
    },
    {
      "cell_type": "code",
      "metadata": {
        "id": "tSEPa2YFXVeH"
      },
      "source": [
        "kowalski = Dane_Osobowe()\n",
        "\n",
        "kowalski.wczytaj_dane_osobowe()\n",
        "\n",
        "kowalski.wypisz_podsumowanie()"
      ],
      "execution_count": null,
      "outputs": []
    },
    {
      "cell_type": "code",
      "metadata": {
        "id": "piKuH7VXZiKk"
      },
      "source": [
        "kowalska = Dane_Osobowe()\n",
        "\n",
        "kowalska.kopiuj(kowalski)\n",
        "\n",
        "kowalska.zmiana_imienia()\n",
        "\n",
        "kowalska.wypisz_podsumowanie()\n",
        "kowalski.wypisz_podsumowanie()"
      ],
      "execution_count": null,
      "outputs": []
    },
    {
      "cell_type": "code",
      "metadata": {
        "id": "7DzF8W5blpR3"
      },
      "source": [
        "kowalska = Dane_Osobowe()\n",
        "\n",
        "kowalska.wypisz_podsumowanie()\n",
        "kowalska.imie = None"
      ],
      "execution_count": null,
      "outputs": []
    },
    {
      "cell_type": "code",
      "metadata": {
        "id": "XB_0UotkcySA"
      },
      "source": [
        "dir(kowalska)"
      ],
      "execution_count": null,
      "outputs": []
    },
    {
      "cell_type": "code",
      "metadata": {
        "id": "KDkFGQ-hc6nw"
      },
      "source": [
        "print(kowalska.__doc__)"
      ],
      "execution_count": null,
      "outputs": []
    },
    {
      "cell_type": "code",
      "metadata": {
        "id": "o6GZtjFLmFNm",
        "outputId": "cf9f6a50-2bec-4727-a6d0-4d843f5e5610",
        "colab": {
          "base_uri": "https://localhost:8080/"
        }
      },
      "source": [
        "kowalska = Dane_Osobowe()\n",
        "\n",
        "dir(kowalska)\n",
        "\n",
        "kowalska.wypisz_podsumowanie()\n",
        "\n",
        "# dostęp do zawartości pola które jest zdefiniowane jako prywatne - można je zmieniać !!!\n",
        "kowalska._Dane_Osobowe__imie = \"Maria\"\n",
        "\n",
        "kowalska.wypisz_podsumowanie()"
      ],
      "execution_count": 11,
      "outputs": [
        {
          "output_type": "stream",
          "name": "stdout",
          "text": [
            "---\n",
            "Imię:  None,     nazwisko: None,     lat None\n",
            "Adres: ul. None None \n",
            "       None, None, None\n",
            "Tel:   None-None\n",
            "Email: None\n",
            "---\n",
            "Imię:  Maria,     nazwisko: None,     lat None\n",
            "Adres: ul. None None \n",
            "       None, None, None\n",
            "Tel:   None-None\n",
            "Email: None\n"
          ]
        }
      ]
    }
  ]
}